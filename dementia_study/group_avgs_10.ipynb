{
 "cells": [
  {
   "attachments": {},
   "cell_type": "markdown",
   "metadata": {},
   "source": [
    "## ERPs generated for the four classes of dementia baseed on (alz.org) MMSE scores utilized in dementia_stages.py ***"
   ]
  },
  {
   "cell_type": "code",
   "execution_count": 1,
   "metadata": {
    "pycharm": {
     "is_executing": true
    }
   },
   "outputs": [
    {
     "name": "stderr",
     "output_type": "stream",
     "text": [
      "/Users/joshuaighalo/opt/anaconda3/lib/python3.9/site-packages/outdated/utils.py:14: OutdatedPackageWarning: The package pingouin is out of date. Your version is 0.5.2, the latest is 0.5.3.\n",
      "Set the environment variable OUTDATED_IGNORE=1 to disable these warnings.\n",
      "  return warn(\n"
     ]
    }
   ],
   "source": [
    "from eeg_helper import*\n",
    "from stats_utils import*\n",
    "from bvsFramework import*\n",
    "from peaksExtraction import*\n",
    "import params as cfg\n",
    "import sys\n",
    "sys.path.insert(1, '/Users/joshuaighalo/Documents/codespace/eegDementia/groupingScans')\n",
    "import seperator_11 as sep"
   ]
  },
  {
   "attachments": {},
   "cell_type": "markdown",
   "metadata": {},
   "source": [
    "## Import eeg scans via filenames"
   ]
  },
  {
   "cell_type": "code",
   "execution_count": 2,
   "metadata": {
    "pycharm": {
     "is_executing": true
    }
   },
   "outputs": [],
   "source": [
    "missen_scans = [152,280,409]\n",
    "clinic_data = 'lp_clinical.xlsx'\n",
    "scan_info = 'Scan_details.xlsx'\n",
    "dataPath = '/Users/joshuaighalo/Library/CloudStorage/OneDrive-SimonFraserUniversity(1sfu)/workspace/datasets/raw-eeg/laurel_place/cleaned_dataset/'"
   ]
  },
  {
   "cell_type": "code",
   "execution_count": 3,
   "metadata": {},
   "outputs": [
    {
     "name": "stdout",
     "output_type": "stream",
     "text": [
      "all first scans grouped!\n",
      "all second scans grouped!\n",
      "all first scans grouped!\n",
      "all second scans grouped!\n",
      "all first scans grouped!\n",
      "all second scans grouped!\n",
      "all first scans grouped!\n",
      "all second scans grouped!\n"
     ]
    }
   ],
   "source": [
    "noB_1,no6_1,no12_1,noB_2,no6_2,no12_2 = sep.params(mmse_scale=[25,30],null_scans=missen_scans,clinical_filename=clinic_data,scaninfo_filename=scan_info,search_path=dataPath)\n",
    "mildB_1,mild6_1,mild12_1,mildB_2,mild6_2,mild12_2 = sep.params(mmse_scale=[20,24],null_scans=missen_scans,clinical_filename=clinic_data,scaninfo_filename=scan_info,search_path=dataPath)\n",
    "modB_1,mod6_1,mod12_1,modB_2,mod6_2,mod12_2 = sep.params(mmse_scale=[13,19],null_scans=missen_scans,clinical_filename=clinic_data,scaninfo_filename=scan_info,search_path=dataPath)\n",
    "sevB_1,sev6_1,sev12_1,sevB_2,sev6_2,sev12_2 = sep.params(mmse_scale=[0,12],null_scans=missen_scans,clinical_filename=clinic_data,scaninfo_filename=scan_info,search_path=dataPath)\n",
    "mildmodB_1 = mildB_1 + modB_1\n",
    "mildmod6_1 = mild6_1 + mod6_1\n",
    "mildmod12_1 = mild12_1 + mod12_1"
   ]
  },
  {
   "attachments": {},
   "cell_type": "markdown",
   "metadata": {},
   "source": [
    "## Remove Scans with Enormous Artifacts"
   ]
  },
  {
   "attachments": {},
   "cell_type": "markdown",
   "metadata": {},
   "source": [
    "<b>Baseline Groups"
   ]
  },
  {
   "cell_type": "code",
   "execution_count": 4,
   "metadata": {
    "pycharm": {
     "is_executing": true
    }
   },
   "outputs": [
    {
     "name": "stdout",
     "output_type": "stream",
     "text": [
      "No Dementia | Baseline | Run 1: \n",
      "Number of files before removing outliers: 14\n"
     ]
    },
    {
     "data": {
      "text/html": [
       "<div>\n",
       "<style scoped>\n",
       "    .dataframe tbody tr th:only-of-type {\n",
       "        vertical-align: middle;\n",
       "    }\n",
       "\n",
       "    .dataframe tbody tr th {\n",
       "        vertical-align: top;\n",
       "    }\n",
       "\n",
       "    .dataframe thead th {\n",
       "        text-align: right;\n",
       "    }\n",
       "</style>\n",
       "<table border=\"1\" class=\"dataframe\">\n",
       "  <thead>\n",
       "    <tr style=\"text-align: right;\">\n",
       "      <th></th>\n",
       "      <th>mse</th>\n",
       "      <th>filename</th>\n",
       "    </tr>\n",
       "  </thead>\n",
       "  <tbody>\n",
       "    <tr>\n",
       "      <th>0</th>\n",
       "      <td>3826080.407491696</td>\n",
       "      <td>0005_1_06052019_1023</td>\n",
       "    </tr>\n",
       "    <tr>\n",
       "      <th>1</th>\n",
       "      <td>370679.35969028546</td>\n",
       "      <td>0011_1_11122017_1357</td>\n",
       "    </tr>\n",
       "    <tr>\n",
       "      <th>2</th>\n",
       "      <td>7632418.3801585855</td>\n",
       "      <td>0038_1_21032019_1045</td>\n",
       "    </tr>\n",
       "    <tr>\n",
       "      <th>3</th>\n",
       "      <td>1923311.9735747243</td>\n",
       "      <td>0049_1_25022019_1154</td>\n",
       "    </tr>\n",
       "    <tr>\n",
       "      <th>4</th>\n",
       "      <td>256070.34462842357</td>\n",
       "      <td>0066_1_26042019_0944</td>\n",
       "    </tr>\n",
       "    <tr>\n",
       "      <th>5</th>\n",
       "      <td>110713.58348294889</td>\n",
       "      <td>0073_1_13032019_1057</td>\n",
       "    </tr>\n",
       "    <tr>\n",
       "      <th>6</th>\n",
       "      <td>992298.4047213454</td>\n",
       "      <td>0074_1_09062017_1048</td>\n",
       "    </tr>\n",
       "    <tr>\n",
       "      <th>7</th>\n",
       "      <td>184564.09573951556</td>\n",
       "      <td>0075_1_22022019_1136</td>\n",
       "    </tr>\n",
       "    <tr>\n",
       "      <th>8</th>\n",
       "      <td>3804900.695205368</td>\n",
       "      <td>0102_1_24042019_1042</td>\n",
       "    </tr>\n",
       "    <tr>\n",
       "      <th>9</th>\n",
       "      <td>1903225.1949942457</td>\n",
       "      <td>0108_1_21032019_1014</td>\n",
       "    </tr>\n",
       "    <tr>\n",
       "      <th>10</th>\n",
       "      <td>7859701.455005568</td>\n",
       "      <td>0114_1_17042019_1143</td>\n",
       "    </tr>\n",
       "    <tr>\n",
       "      <th>11</th>\n",
       "      <td>1.2411083688910403e+55</td>\n",
       "      <td>0402_1_25022019_1438</td>\n",
       "    </tr>\n",
       "    <tr>\n",
       "      <th>12</th>\n",
       "      <td>3565246.4476159257</td>\n",
       "      <td>0403_1_06032019_1108</td>\n",
       "    </tr>\n",
       "    <tr>\n",
       "      <th>13</th>\n",
       "      <td>3781492.423454749</td>\n",
       "      <td>0408_1_01052019_1006</td>\n",
       "    </tr>\n",
       "  </tbody>\n",
       "</table>\n",
       "</div>"
      ],
      "text/plain": [
       "                       mse              filename\n",
       "0        3826080.407491696  0005_1_06052019_1023\n",
       "1       370679.35969028546  0011_1_11122017_1357\n",
       "2       7632418.3801585855  0038_1_21032019_1045\n",
       "3       1923311.9735747243  0049_1_25022019_1154\n",
       "4       256070.34462842357  0066_1_26042019_0944\n",
       "5       110713.58348294889  0073_1_13032019_1057\n",
       "6        992298.4047213454  0074_1_09062017_1048\n",
       "7       184564.09573951556  0075_1_22022019_1136\n",
       "8        3804900.695205368  0102_1_24042019_1042\n",
       "9       1903225.1949942457  0108_1_21032019_1014\n",
       "10       7859701.455005568  0114_1_17042019_1143\n",
       "11  1.2411083688910403e+55  0402_1_25022019_1438\n",
       "12      3565246.4476159257  0403_1_06032019_1108\n",
       "13       3781492.423454749  0408_1_01052019_1006"
      ]
     },
     "metadata": {},
     "output_type": "display_data"
    },
    {
     "name": "stdout",
     "output_type": "stream",
     "text": [
      "\n",
      " Number of files after removing outliers: 13\n"
     ]
    },
    {
     "data": {
      "text/html": [
       "<div>\n",
       "<style scoped>\n",
       "    .dataframe tbody tr th:only-of-type {\n",
       "        vertical-align: middle;\n",
       "    }\n",
       "\n",
       "    .dataframe tbody tr th {\n",
       "        vertical-align: top;\n",
       "    }\n",
       "\n",
       "    .dataframe thead th {\n",
       "        text-align: right;\n",
       "    }\n",
       "</style>\n",
       "<table border=\"1\" class=\"dataframe\">\n",
       "  <thead>\n",
       "    <tr style=\"text-align: right;\">\n",
       "      <th></th>\n",
       "      <th>outlier filenames</th>\n",
       "    </tr>\n",
       "  </thead>\n",
       "  <tbody>\n",
       "    <tr>\n",
       "      <th>0</th>\n",
       "      <td>0402_1_25022019_1438</td>\n",
       "    </tr>\n",
       "  </tbody>\n",
       "</table>\n",
       "</div>"
      ],
      "text/plain": [
       "      outlier filenames\n",
       "0  0402_1_25022019_1438"
      ]
     },
     "metadata": {},
     "output_type": "display_data"
    },
    {
     "name": "stdout",
     "output_type": "stream",
     "text": [
      "\n",
      "\n"
     ]
    },
    {
     "ename": "KeyboardInterrupt",
     "evalue": "",
     "output_type": "error",
     "traceback": [
      "\u001b[0;31m---------------------------------------------------------------------------\u001b[0m",
      "\u001b[0;31mKeyboardInterrupt\u001b[0m                         Traceback (most recent call last)",
      "\u001b[0;32m/var/folders/ry/jhpq361x33g2tv7b7l6j0md80000gn/T/ipykernel_48251/2918380948.py\u001b[0m in \u001b[0;36m<module>\u001b[0;34m\u001b[0m\n\u001b[1;32m      1\u001b[0m \u001b[0mqBND\u001b[0m \u001b[0;34m=\u001b[0m \u001b[0mremoveBadRawEEGs\u001b[0m\u001b[0;34m(\u001b[0m\u001b[0mnoB_1\u001b[0m\u001b[0;34m,\u001b[0m\u001b[0;36m1.0\u001b[0m\u001b[0;34m,\u001b[0m\u001b[0;34m'No Dementia | Baseline | Run 1: '\u001b[0m\u001b[0;34m,\u001b[0m\u001b[0mdataPath\u001b[0m\u001b[0;34m)\u001b[0m\u001b[0;34m\u001b[0m\u001b[0;34m\u001b[0m\u001b[0m\n\u001b[0;32m----> 2\u001b[0;31m \u001b[0mqBMIDMOD\u001b[0m \u001b[0;34m=\u001b[0m \u001b[0mremoveBadRawEEGs\u001b[0m\u001b[0;34m(\u001b[0m\u001b[0mmildmodB_1\u001b[0m\u001b[0;34m,\u001b[0m\u001b[0;36m1.0\u001b[0m\u001b[0;34m,\u001b[0m\u001b[0;34m'Mild-Moderate Dementia | Baseline | Run 1: '\u001b[0m\u001b[0;34m,\u001b[0m\u001b[0mdataPath\u001b[0m\u001b[0;34m)\u001b[0m\u001b[0;34m\u001b[0m\u001b[0;34m\u001b[0m\u001b[0m\n\u001b[0m\u001b[1;32m      3\u001b[0m \u001b[0mqBSD\u001b[0m \u001b[0;34m=\u001b[0m \u001b[0mremoveBadRawEEGs\u001b[0m\u001b[0;34m(\u001b[0m\u001b[0msevB_1\u001b[0m\u001b[0;34m,\u001b[0m\u001b[0;36m1.0\u001b[0m\u001b[0;34m,\u001b[0m\u001b[0;34m'Severe Dementia | Baseline | Run 1: '\u001b[0m\u001b[0;34m,\u001b[0m\u001b[0mdataPath\u001b[0m\u001b[0;34m)\u001b[0m\u001b[0;34m\u001b[0m\u001b[0;34m\u001b[0m\u001b[0m\n",
      "\u001b[0;32m~/Documents/codespace/eegDementia/eeg_helper.py\u001b[0m in \u001b[0;36mremoveBadRawEEGs\u001b[0;34m(filenames, version, fileInfo, localPath)\u001b[0m\n\u001b[1;32m   2236\u001b[0m     \u001b[0mmseScores\u001b[0m \u001b[0;34m=\u001b[0m \u001b[0;34m[\u001b[0m\u001b[0;34m]\u001b[0m\u001b[0;34m\u001b[0m\u001b[0;34m\u001b[0m\u001b[0m\n\u001b[1;32m   2237\u001b[0m     \u001b[0;32mfor\u001b[0m \u001b[0mfilename\u001b[0m \u001b[0;32min\u001b[0m \u001b[0mfilenames\u001b[0m\u001b[0;34m:\u001b[0m\u001b[0;34m\u001b[0m\u001b[0;34m\u001b[0m\u001b[0m\n\u001b[0;32m-> 2238\u001b[0;31m         \u001b[0mmseScores\u001b[0m\u001b[0;34m.\u001b[0m\u001b[0mappend\u001b[0m\u001b[0;34m(\u001b[0m\u001b[0mparams\u001b[0m\u001b[0;34m(\u001b[0m\u001b[0mfilename\u001b[0m\u001b[0;34m,\u001b[0m\u001b[0mversion\u001b[0m\u001b[0;34m,\u001b[0m\u001b[0mlocalPath\u001b[0m\u001b[0;34m)\u001b[0m\u001b[0;34m)\u001b[0m\u001b[0;34m\u001b[0m\u001b[0;34m\u001b[0m\u001b[0m\n\u001b[0m\u001b[1;32m   2239\u001b[0m     \u001b[0mmseScores\u001b[0m \u001b[0;34m=\u001b[0m \u001b[0mnp\u001b[0m\u001b[0;34m.\u001b[0m\u001b[0marray\u001b[0m\u001b[0;34m(\u001b[0m\u001b[0mmseScores\u001b[0m\u001b[0;34m)\u001b[0m\u001b[0;34m\u001b[0m\u001b[0;34m\u001b[0m\u001b[0m\n\u001b[1;32m   2240\u001b[0m     \u001b[0;31m# place filenames next to mseScores\u001b[0m\u001b[0;34m\u001b[0m\u001b[0;34m\u001b[0m\u001b[0m\n",
      "\u001b[0;32m~/Documents/codespace/eegDementia/eeg_helper.py\u001b[0m in \u001b[0;36mparams\u001b[0;34m(filename, version, localPath)\u001b[0m\n\u001b[1;32m   2230\u001b[0m         \u001b[0mrawEOG\u001b[0m \u001b[0;34m=\u001b[0m \u001b[0mfileObjects\u001b[0m\u001b[0;34m[\u001b[0m\u001b[0;36m1\u001b[0m\u001b[0;34m]\u001b[0m\u001b[0;34m\u001b[0m\u001b[0;34m\u001b[0m\u001b[0m\n\u001b[1;32m   2231\u001b[0m         \u001b[0mfiltering\u001b[0m \u001b[0;34m=\u001b[0m \u001b[0mfilters\u001b[0m\u001b[0;34m(\u001b[0m\u001b[0;34m)\u001b[0m\u001b[0;34m\u001b[0m\u001b[0;34m\u001b[0m\u001b[0m\n\u001b[0;32m-> 2232\u001b[0;31m         \u001b[0madaptiveFilterOutput\u001b[0m \u001b[0;34m=\u001b[0m \u001b[0mfiltering\u001b[0m\u001b[0;34m.\u001b[0m\u001b[0madaptive\u001b[0m\u001b[0;34m(\u001b[0m\u001b[0mrawEEG\u001b[0m\u001b[0;34m,\u001b[0m\u001b[0mrawEOG\u001b[0m\u001b[0;34m)\u001b[0m\u001b[0;34m\u001b[0m\u001b[0;34m\u001b[0m\u001b[0m\n\u001b[0m\u001b[1;32m   2233\u001b[0m         \u001b[0;31m# compute mse between rawEEG and adaptiveFilterOutput\u001b[0m\u001b[0;34m\u001b[0m\u001b[0;34m\u001b[0m\u001b[0m\n\u001b[1;32m   2234\u001b[0m         \u001b[0mmse\u001b[0m \u001b[0;34m=\u001b[0m \u001b[0mnp\u001b[0m\u001b[0;34m.\u001b[0m\u001b[0mnanmean\u001b[0m\u001b[0;34m(\u001b[0m\u001b[0;34m(\u001b[0m\u001b[0mrawEEG\u001b[0m \u001b[0;34m-\u001b[0m \u001b[0madaptiveFilterOutput\u001b[0m\u001b[0;34m)\u001b[0m\u001b[0;34m**\u001b[0m\u001b[0;36m2\u001b[0m\u001b[0;34m)\u001b[0m\u001b[0;34m\u001b[0m\u001b[0;34m\u001b[0m\u001b[0m\n",
      "\u001b[0;32m~/Documents/codespace/eegDementia/eeg_helper.py\u001b[0m in \u001b[0;36madaptive\u001b[0;34m(self, eegData, eogData, nKernel, forgetF, startSample, p)\u001b[0m\n\u001b[1;32m    449\u001b[0m             \u001b[0mH_n\u001b[0m \u001b[0;34m=\u001b[0m \u001b[0mH_n\u001b[0m \u001b[0;34m+\u001b[0m \u001b[0mnp\u001b[0m\u001b[0;34m.\u001b[0m\u001b[0mdot\u001b[0m\u001b[0;34m(\u001b[0m\u001b[0mK_n\u001b[0m\u001b[0;34m,\u001b[0m \u001b[0me_nn\u001b[0m\u001b[0;34m.\u001b[0m\u001b[0mT\u001b[0m\u001b[0;34m)\u001b[0m\u001b[0;34m\u001b[0m\u001b[0;34m\u001b[0m\u001b[0m\n\u001b[1;32m    450\u001b[0m             \u001b[0me_n\u001b[0m \u001b[0;34m=\u001b[0m \u001b[0ms_n\u001b[0m \u001b[0;34m-\u001b[0m \u001b[0mnp\u001b[0m\u001b[0;34m.\u001b[0m\u001b[0mdot\u001b[0m\u001b[0;34m(\u001b[0m\u001b[0mr_n\u001b[0m\u001b[0;34m.\u001b[0m\u001b[0mT\u001b[0m\u001b[0;34m,\u001b[0m \u001b[0mH_n\u001b[0m\u001b[0;34m)\u001b[0m\u001b[0;34m.\u001b[0m\u001b[0mT\u001b[0m\u001b[0;34m\u001b[0m\u001b[0;34m\u001b[0m\u001b[0m\n\u001b[0;32m--> 451\u001b[0;31m             \u001b[0mX\u001b[0m\u001b[0;34m[\u001b[0m\u001b[0meegIndex\u001b[0m\u001b[0;34m,\u001b[0m \u001b[0mn\u001b[0m\u001b[0;34m]\u001b[0m \u001b[0;34m=\u001b[0m \u001b[0mnp\u001b[0m\u001b[0;34m.\u001b[0m\u001b[0msqueeze\u001b[0m\u001b[0;34m(\u001b[0m\u001b[0me_n\u001b[0m\u001b[0;34m)\u001b[0m\u001b[0;34m\u001b[0m\u001b[0;34m\u001b[0m\u001b[0m\n\u001b[0m\u001b[1;32m    452\u001b[0m         \u001b[0mcleanData\u001b[0m \u001b[0;34m=\u001b[0m \u001b[0mX\u001b[0m\u001b[0;34m[\u001b[0m\u001b[0meegIndex\u001b[0m\u001b[0;34m,\u001b[0m \u001b[0;34m:\u001b[0m\u001b[0;34m]\u001b[0m\u001b[0;34m.\u001b[0m\u001b[0mT\u001b[0m\u001b[0;34m\u001b[0m\u001b[0;34m\u001b[0m\u001b[0m\n\u001b[1;32m    453\u001b[0m         \u001b[0;32mreturn\u001b[0m \u001b[0mcleanData\u001b[0m\u001b[0;34m\u001b[0m\u001b[0;34m\u001b[0m\u001b[0m\n",
      "\u001b[0;31mKeyboardInterrupt\u001b[0m: "
     ]
    }
   ],
   "source": [
    "qBND = removeBadRawEEGs(noB_1,1.0,'No Dementia | Baseline | Run 1: ',dataPath)\n",
    "qBMIDMOD = removeBadRawEEGs(mildmodB_1,1.0,'Mild-Moderate Dementia | Baseline | Run 1: ',dataPath)\n",
    "qBSD = removeBadRawEEGs(sevB_1,1.0,'Severe Dementia | Baseline | Run 1: ',dataPath)"
   ]
  },
  {
   "attachments": {},
   "cell_type": "markdown",
   "metadata": {},
   "source": [
    "## Grand Average ERPs"
   ]
  },
  {
   "cell_type": "code",
   "execution_count": null,
   "metadata": {
    "pycharm": {
     "is_executing": true
    }
   },
   "outputs": [],
   "source": [
    "args_ND = {'deviceVersion':1.0,'path':dataPath,'sfreq':cfg.fs,'line':cfg.line,'highPass':1,'lowPass':10,\n",
    "        'erp_data_path':'/Users/joshuaighalo/Library/CloudStorage/OneDrive-SimonFraserUniversity(1sfu)/workspace/datasets/raw-eeg/laurel_place/ERPs/',\n",
    "        'erp_tones_filename':'ND_TonesERPs.npy',\n",
    "        'erp_words_filename':'ND_WordsERPs.npy',\n",
    "        'stimTriggers':cfg.stimTrig,'clip':75,'channel_names':['Fz','Cz','Pz'],'ERPs_GrandAverages':True,'erp_plots':True}\n",
    "args_MD = {'deviceVersion':1.0,'path':dataPath,'sfreq':cfg.fs,'line':cfg.line,'highPass':1,'lowPass':10,\n",
    "        'erp_data_path':'/Users/joshuaighalo/Library/CloudStorage/OneDrive-SimonFraserUniversity(1sfu)/workspace/datasets/raw-eeg/laurel_place/ERPs/',\n",
    "        'erp_tones_filename':'MD_TonesERPs.npy',\n",
    "        'erp_words_filename':'MD_WordsERPs.npy',\n",
    "        'stimTriggers':cfg.stimTrig,'clip':75,'channel_names':['Fz','Cz','Pz'],'ERPs_GrandAverages':True,'erp_plots':True}\n",
    "args_SD = {'deviceVersion':1.0,'path':dataPath,'sfreq':cfg.fs,'line':cfg.line,'highPass':1,'lowPass':10,\n",
    "        'erp_data_path':'/Users/joshuaighalo/Library/CloudStorage/OneDrive-SimonFraserUniversity(1sfu)/workspace/datasets/raw-eeg/laurel_place/ERPs/',\n",
    "        'erp_tones_filename':'SD_TonesERPs.npy',\n",
    "        'erp_words_filename':'SD_WordsERPs.npy',\n",
    "        'stimTriggers':cfg.stimTrig,'clip':75,'channel_names':['Fz','Cz','Pz'],'ERPs_GrandAverages':True,'erp_plots':True}"
   ]
  },
  {
   "cell_type": "code",
   "execution_count": null,
   "metadata": {
    "pycharm": {
     "is_executing": true
    }
   },
   "outputs": [],
   "source": [
    "print('No Dementia | Baseline | Run 1')\n",
    "grandBND = pipeline(filenames=qBND,**args_ND)\n",
    "\n",
    "print('Mild Dementia | Baseline | Run 1')\n",
    "grandBMIDMOD = pipeline(filenames=qBMIDMOD ,**args_MD)\n",
    "\n",
    "print('Severe Dementia | Baseline | Run 1')\n",
    "grandBSD = pipeline(filenames=qBSD,**args_SD)"
   ]
  },
  {
   "cell_type": "code",
   "execution_count": null,
   "metadata": {},
   "outputs": [],
   "source": [
    "def customplot_grand_average_N1P3():\n",
    "    titles = ['Fz','Cz','Pz']\n",
    "    erp_latency = grandBND[2]\n",
    "    fig,axis = plt.subplots(1,3,constrained_layout=True, sharey=True,figsize=(20,7))\n",
    "    erp_latency = erp_latency.astype(np.float64)\n",
    "    shade_degree = 0.05\n",
    "    font_size_tick,font_size_title,font_size_label,line_width = 15,20,20,5\n",
    "    font_dict = {'fontsize':30,'fontweight':'bold'}\n",
    "    axis[0].plot(erp_latency,grandBSD[0][1],color='red',linewidth=line_width)\n",
    "    axis[0].plot(erp_latency,grandBMIDMOD[0][1],color='blue',linewidth=line_width)\n",
    "    axis[0].plot(erp_latency,grandBND[0][1],color='green',linewidth=line_width)\n",
    "    axis[0].fill_between(erp_latency,grandBSD[0][1]-np.nanstd(grandBSD[0][1]),grandBSD[0][1]+np.nanstd(grandBSD[0][1]),color='red',alpha=shade_degree)\n",
    "    axis[0].fill_between(erp_latency,grandBMIDMOD[0][1]-np.nanstd(grandBMIDMOD[0][1]),grandBMIDMOD[0][1]+np.nanstd(grandBMIDMOD[0][1]),color='blue',alpha=shade_degree)\n",
    "    axis[0].fill_between(erp_latency,grandBND[0][1]-np.nanstd(grandBND[0][1]),grandBND[0][1]+np.nanstd(grandBND[0][1]),color='green',alpha=shade_degree)\n",
    "    axis[0].set_title(titles[0],fontsize=font_size_title)\n",
    "    axis[0].set_ylabel('Amplitude (uV)',fontsize=font_size_label)\n",
    "    axis[0].set_xlabel('Latency (ms)',fontsize=font_size_label)\n",
    "    axis[0].xaxis.set_major_locator(MultipleLocator(100))   \n",
    "    axis[0].axvline(0, color='black', linestyle='--')\n",
    "    axis[0].invert_yaxis()\n",
    "    axis[0].set_ylim([7,-7])\n",
    "    axis[0].tick_params(axis='both', which='major', labelsize=font_size_tick)\n",
    "    axis[0].axvline(180, color='black', linestyle='--')\n",
    "    axis[0].axvline(205, color='black', linestyle='--')\n",
    "    axis[0].axvline(230, color='black', linestyle='--')\n",
    "    axis[0].axvline(255, color='black', linestyle='--')\n",
    "    axis[0].axvline(400, color='black', linestyle='--')\n",
    "    axis[0].axvline(450, color='black', linestyle='--')\n",
    "    axis[0].axvline(500, color='black', linestyle='--')\n",
    "    axis[0].axvline(550, color='black', linestyle='--')\n",
    "    axis[0].axvspan(180, 255, facecolor='grey', alpha=0.2)\n",
    "    axis[0].axvspan(400, 550, facecolor='grey', alpha=0.2)\n",
    "    axis[0].text(400, 5, 'P300', **font_dict)\n",
    "    axis[0].text(200, -6, 'N100', **font_dict)\n",
    "    axis[1].plot(erp_latency,grandBSD[0][3],color='red',linewidth=line_width)\n",
    "    axis[1].plot(erp_latency,grandBMIDMOD[0][3],color='blue',linewidth=line_width)\n",
    "    axis[1].plot(erp_latency,grandBND[0][3],color='green',linewidth=line_width)\n",
    "    axis[1].fill_between(erp_latency,grandBSD[0][3]-np.nanstd(grandBSD[0][3]),grandBSD[0][3]+np.nanstd(grandBSD[0][3]),color='red',alpha=shade_degree)\n",
    "    axis[1].fill_between(erp_latency,grandBMIDMOD[0][3]-np.nanstd(grandBMIDMOD[0][3]),grandBMIDMOD[0][3]+np.nanstd(grandBMIDMOD[0][3]),color='blue',alpha=shade_degree)\n",
    "    axis[1].fill_between(erp_latency,grandBND[0][3]-np.nanstd(grandBND[0][3]),grandBND[0][3]+np.nanstd(grandBND[0][3]),color='green',alpha=shade_degree)\n",
    "    axis[1].set_title(titles[1],fontsize=font_size_title)\n",
    "    axis[1].set_xlabel('Latency (ms)',fontsize=font_size_label)\n",
    "    axis[1].xaxis.set_major_locator(MultipleLocator(100))\n",
    "    axis[1].axvline(0, color='black', linestyle='--')\n",
    "    axis[1].invert_yaxis()\n",
    "    axis[1].set_ylim([7,-7])\n",
    "    axis[1].tick_params(axis='both', which='major', labelsize=font_size_tick)\n",
    "    axis[1].axvline(180, color='black', linestyle='--')\n",
    "    axis[1].axvline(205, color='black', linestyle='--')\n",
    "    axis[1].axvline(230, color='black', linestyle='--')\n",
    "    axis[1].axvline(255, color='black', linestyle='--')\n",
    "    axis[1].axvline(400, color='black', linestyle='--')\n",
    "    axis[1].axvline(450, color='black', linestyle='--')\n",
    "    axis[1].axvline(500, color='black', linestyle='--')\n",
    "    axis[1].axvline(550, color='black', linestyle='--')\n",
    "    axis[1].axvspan(180, 255, facecolor='grey', alpha=0.2)\n",
    "    axis[1].axvspan(400, 550, facecolor='grey', alpha=0.2)\n",
    "    axis[1].text(400, 5, 'P300', **font_dict)\n",
    "    axis[1].text(200, -6, 'N100', **font_dict)\n",
    "    axis[2].plot(erp_latency,grandBSD[0][5],color='red',linewidth=line_width)\n",
    "    axis[2].plot(erp_latency,grandBMIDMOD[0][5],color='blue',linewidth=line_width)\n",
    "    axis[2].plot(erp_latency,grandBND[0][5],color='green',linewidth=line_width)\n",
    "    axis[2].fill_between(erp_latency,grandBSD[0][5]-np.nanstd(grandBSD[0][5]),grandBSD[0][5]+np.nanstd(grandBSD[0][5]),color='red',alpha=shade_degree)\n",
    "    axis[2].fill_between(erp_latency,grandBMIDMOD[0][5]-np.nanstd(grandBMIDMOD[0][5]),grandBMIDMOD[0][5]+np.nanstd(grandBMIDMOD[0][5]),color='blue',alpha=shade_degree)\n",
    "    axis[2].fill_between(erp_latency,grandBND[0][5]-np.nanstd(grandBND[0][5]),grandBND[0][5]+np.nanstd(grandBND[0][5]),color='green',alpha=shade_degree)\n",
    "    axis[2].set_title(titles[2],fontsize=font_size_title)\n",
    "    axis[2].set_xlabel('Latency (ms)',fontsize=font_size_label)\n",
    "    axis[2].xaxis.set_major_locator(MultipleLocator(100))\n",
    "    axis[2].axvline(0, color='black', linestyle='--')\n",
    "    axis[2].invert_yaxis()\n",
    "    axis[2].set_ylim([7,-7])\n",
    "    axis[2].tick_params(axis='both', which='major', labelsize=font_size_tick)\n",
    "    axis[2].axvline(180, color='black', linestyle='--')\n",
    "    axis[2].axvline(205, color='black', linestyle='--')\n",
    "    axis[2].axvline(230, color='black', linestyle='--')\n",
    "    axis[2].axvline(255, color='black', linestyle='--')\n",
    "    axis[2].axvline(400, color='black', linestyle='--')\n",
    "    axis[2].axvline(450, color='black', linestyle='--')\n",
    "    axis[2].axvline(500, color='black', linestyle='--')\n",
    "    axis[2].axvline(550, color='black', linestyle='--')\n",
    "    axis[2].axvspan(180, 255, facecolor='grey', alpha=0.2)\n",
    "    axis[2].axvspan(400, 550, facecolor='grey', alpha=0.2)\n",
    "    axis[2].text(400, 5, 'P300', **font_dict)\n",
    "    axis[2].text(200, -6, 'N100', **font_dict)\n",
    "    labels = ['Low MMSE','Medium MMSE','High MMSE']\n",
    "    axis[2].legend(labels, loc = 'upper right', fontsize = 15)\n",
    "    plt.show()\n",
    "\n",
    "def customplot_grand_average_N4():\n",
    "    titles = ['Fz','Cz','Pz']\n",
    "    erp_latency = grandBND[2]\n",
    "    fig,axis = plt.subplots(1,3,constrained_layout=True, sharey=True,figsize=(20,7))\n",
    "    fig.set_dpi(600)\n",
    "    erp_latency = erp_latency.astype(np.float64)\n",
    "    shade_degree = 0.05\n",
    "    font_size_tick,font_size_title,font_size_label,line_width = 15,20,20,5\n",
    "    font_dict = {'fontsize':30,'fontweight':'bold'}\n",
    "    axis[0].plot(erp_latency,grandBSD[1][1],color='red',linewidth=line_width)\n",
    "    axis[0].plot(erp_latency,grandBMIDMOD[1][1],color='blue',linewidth=line_width)\n",
    "    axis[0].plot(erp_latency,grandBND[1][1],color='green',linewidth=line_width)\n",
    "    axis[0].fill_between(erp_latency,grandBSD[1][1]-np.nanstd(grandBSD[1][1]),grandBSD[1][1]+np.nanstd(grandBSD[1][1]),color='red',alpha=shade_degree)\n",
    "    axis[0].fill_between(erp_latency,grandBMIDMOD[1][1]-np.nanstd(grandBMIDMOD[1][1]),grandBMIDMOD[1][1]+np.nanstd(grandBMIDMOD[1][1]),color='blue',alpha=shade_degree)\n",
    "    axis[0].fill_between(erp_latency,grandBND[1][1]-np.nanstd(grandBND[1][1]),grandBND[1][1]+np.nanstd(grandBND[1][1]),color='green',alpha=shade_degree)\n",
    "    axis[0].set_title(titles[0],fontsize=font_size_title)\n",
    "    axis[0].set_ylabel('Amplitude (uV)',fontsize=font_size_label)\n",
    "    axis[0].set_xlabel('Latency (ms)',fontsize=font_size_label)\n",
    "    axis[0].xaxis.set_major_locator(MultipleLocator(100))   \n",
    "    axis[0].axvline(0, color='black', linestyle='--')\n",
    "    axis[0].invert_yaxis()\n",
    "    axis[0].set_ylim([7,-7])\n",
    "    axis[0].tick_params(axis='both', which='major', labelsize=font_size_tick)\n",
    "    axis[0].axvline(500, color='black', linestyle='--')\n",
    "    axis[0].axvline(600, color='black', linestyle='--')\n",
    "    axis[0].axvline(700, color='black', linestyle='--')\n",
    "    axis[0].axvline(800, color='black', linestyle='--')\n",
    "    axis[0].axvspan(500, 800, facecolor='grey', alpha=0.2)\n",
    "    axis[0].text(700, -2, 'N400', **font_dict)\n",
    "    axis[1].plot(erp_latency,grandBSD[1][3],color='red',linewidth=line_width)\n",
    "    axis[1].plot(erp_latency,grandBMIDMOD[1][3],color='blue',linewidth=line_width)\n",
    "    axis[1].plot(erp_latency,grandBND[1][3],color='green',linewidth=line_width)\n",
    "    axis[1].fill_between(erp_latency,grandBSD[1][3]-np.nanstd(grandBSD[1][3]),grandBSD[1][3]+np.nanstd(grandBSD[1][3]),color='red',alpha=shade_degree)\n",
    "    axis[1].fill_between(erp_latency,grandBMIDMOD[1][3]-np.nanstd(grandBMIDMOD[1][3]),grandBMIDMOD[1][3]+np.nanstd(grandBMIDMOD[1][3]),color='blue',alpha=shade_degree)\n",
    "    axis[1].fill_between(erp_latency,grandBND[1][3]-np.nanstd(grandBND[1][3]),grandBND[1][3]+np.nanstd(grandBND[1][3]),color='green',alpha=shade_degree)\n",
    "    axis[1].set_title(titles[1],fontsize=font_size_title)\n",
    "    axis[1].set_xlabel('Latency (ms)',fontsize=font_size_label)\n",
    "    axis[1].xaxis.set_major_locator(MultipleLocator(100))\n",
    "    axis[1].axvline(0, color='black', linestyle='--')\n",
    "    axis[1].invert_yaxis()\n",
    "    axis[1].set_ylim([7,-7])\n",
    "    axis[1].tick_params(axis='both', which='major', labelsize=font_size_tick)\n",
    "    axis[1].axvline(500, color='black', linestyle='--')\n",
    "    axis[1].axvline(600, color='black', linestyle='--')\n",
    "    axis[1].axvline(700, color='black', linestyle='--') \n",
    "    axis[1].axvline(800, color='black', linestyle='--')\n",
    "    axis[1].axvspan(500, 800, facecolor='grey', alpha=0.2)\n",
    "    axis[1].text(700, -2, 'N400', **font_dict)\n",
    "    axis[2].plot(erp_latency,grandBSD[1][5],color='red',linewidth=line_width)\n",
    "    axis[2].plot(erp_latency,grandBMIDMOD[1][5],color='blue',linewidth=line_width)\n",
    "    axis[2].plot(erp_latency,grandBND[1][5],color='green',linewidth=line_width)\n",
    "    axis[2].fill_between(erp_latency,grandBSD[1][5]-np.nanstd(grandBSD[1][5]),grandBSD[1][5]+np.nanstd(grandBSD[1][5]),color='red',alpha=shade_degree)\n",
    "    axis[2].fill_between(erp_latency,grandBMIDMOD[1][5]-np.nanstd(grandBMIDMOD[1][5]),grandBMIDMOD[1][5]+np.nanstd(grandBMIDMOD[1][5]),color='blue',alpha=shade_degree)\n",
    "    axis[2].fill_between(erp_latency,grandBND[1][5]-np.nanstd(grandBND[1][5]),grandBND[1][5]+np.nanstd(grandBND[1][5]),color='green',alpha=shade_degree)\n",
    "    axis[2].set_title(titles[2],fontsize=font_size_title)\n",
    "    axis[2].set_xlabel('Latency (ms)',fontsize=font_size_label)\n",
    "    axis[2].xaxis.set_major_locator(MultipleLocator(100))\n",
    "    axis[2].axvline(0, color='black', linestyle='--')\n",
    "    axis[2].invert_yaxis()\n",
    "    axis[2].set_ylim([7,-7])\n",
    "    axis[2].tick_params(axis='both', which='major', labelsize=font_size_tick)\n",
    "    axis[2].axvline(500, color='black', linestyle='--')\n",
    "    axis[2].axvline(600, color='black', linestyle='--')\n",
    "    axis[2].axvline(700, color='black', linestyle='--')\n",
    "    axis[2].axvline(800, color='black', linestyle='--')\n",
    "    axis[2].axvspan(500, 800, facecolor='grey', alpha=0.2)\n",
    "    axis[2].text(700, -2, 'N400', **font_dict)\n",
    "    labels = ['Low MMSE','Medium MMSE','High MMSE']\n",
    "    axis[2].legend(labels, loc = 'upper right', fontsize = 15)\n",
    "    plt.show()\n",
    "\n",
    "customplot_grand_average_N1P3()\n",
    "customplot_grand_average_N4()"
   ]
  },
  {
   "attachments": {},
   "cell_type": "markdown",
   "metadata": {},
   "source": [
    "# Extract the peak amplitude and latency of choice erp from visual inspection of grands"
   ]
  },
  {
   "attachments": {},
   "cell_type": "markdown",
   "metadata": {},
   "source": [
    "<b> extract peak amplitudes and latencies from grands"
   ]
  },
  {
   "cell_type": "code",
   "execution_count": null,
   "metadata": {},
   "outputs": [],
   "source": [
    "rangeN100,rangeP300,rangeN400 = [180,260],[400,550],[500,760]"
   ]
  },
  {
   "cell_type": "code",
   "execution_count": null,
   "metadata": {
    "pycharm": {
     "is_executing": true
    }
   },
   "outputs": [],
   "source": [
    "tones_grandBND = grandBND[0]\n",
    "words_grandBND = grandBND[1]\n",
    "latency = grandBND[2]\n",
    "devFzBND,devCzBND,devPzBND = tones_grandBND[1],tones_grandBND[3],tones_grandBND[5]\n",
    "incFzBND,incCzBND,incPzBND = words_grandBND[1],words_grandBND[3],words_grandBND[5]\n",
    "grandAmpN1FzBND,grandLatN1FzBND = grand_peak_params(devFzBND,latency,rangeN100,'N1|Fz|BND',N100=True)\n",
    "grandAmpN1CzBND,grandLatN1CzBND = grand_peak_params(devCzBND,latency,rangeN100,'N1|Cz|BND',N100=True)\n",
    "grandAmpN1PzBND,grandLatN1PzBND = grand_peak_params(devPzBND,latency,rangeN100,'N1|Pz|BND',N100=True)\n",
    "grandAmpP3FzBND,grandLatP3FzBND = grand_peak_params(devFzBND,latency,rangeP300,'P3|Fz|BND',P300=True)\n",
    "grandAmpP3CzBND,grandLatP3CzBND = grand_peak_params(devCzBND,latency,rangeP300,'P3|Cz|BND',P300=True)\n",
    "grandAmpP3PzBND,grandLatP3PzBND = grand_peak_params(devPzBND,latency,rangeP300,'P3|Pz|BND',P300=True)\n",
    "grandAmpN4FzBND,grandLatN4FzBND = grand_peak_params(incFzBND,latency,rangeN400,'N4|Fz|BND',N400=True)\n",
    "grandAmpN4CzBND,grandLatN4CzBND = grand_peak_params(incCzBND,latency,rangeN400,'N4|Cz|BND',N400=True)\n",
    "grandAmpN4PzBND,grandLatN4PzBND = grand_peak_params(incPzBND,latency,rangeN400,'N4|Pz|BND',N400=True)"
   ]
  },
  {
   "cell_type": "code",
   "execution_count": null,
   "metadata": {
    "pycharm": {
     "is_executing": true
    }
   },
   "outputs": [],
   "source": [
    "tones_grandBMIDMOD = grandBMIDMOD[0]\n",
    "words_grandBMIDMOD = grandBMIDMOD[1]\n",
    "latency = grandBMIDMOD[2]\n",
    "devFzBMIDMOD,devCzBMIDMOD,devPzBMIDMOD = tones_grandBMIDMOD[1],tones_grandBMIDMOD[3],tones_grandBMIDMOD[5]\n",
    "incFzBMIDMOD,incCzBMIDMOD,incPzBMIDMOD = words_grandBMIDMOD[1],words_grandBMIDMOD[3],words_grandBMIDMOD[5]\n",
    "grandAmpN1FzBMIDMOD,grandLatN1FzBMIDMOD = grand_peak_params(devFzBMIDMOD,latency,rangeN100,'N1|Fz|BMIDMOD',N100=True)\n",
    "grandAmpN1CzBMIDMOD,grandLatN1CzBMIDMOD = grand_peak_params(devCzBMIDMOD,latency,rangeN100,'N1|Cz|BMIDMOD',N100=True)\n",
    "grandAmpN1PzBMIDMOD,grandLatN1PzBMIDMOD = grand_peak_params(devPzBMIDMOD,latency,rangeN100,'N1|Pz|BMIDMOD',N100=True)\n",
    "grandAmpP3FzBMIDMOD,grandLatP3FzBMIDMOD = grand_peak_params(devFzBMIDMOD,latency,rangeP300,'P3|Fz|BMIDMOD',P300=True)\n",
    "grandAmpP3CzBMIDMOD,grandLatP3CzBMIDMOD = grand_peak_params(devCzBMIDMOD,latency,rangeP300,'P3|Cz|BMIDMOD',P300=True)\n",
    "grandAmpP3PzBMIDMOD,grandLatP3PzBMIDMOD = grand_peak_params(devPzBMIDMOD,latency,rangeP300,'P3|Pz|BMIDMOD',P300=True)\n",
    "grandAmpN4FzBMIDMOD,grandLatN4FzBMIDMOD = grand_peak_params(incFzBMIDMOD,latency,rangeN400,'N4|Fz|BMIDMOD',N400=True)\n",
    "grandAmpN4CzBMIDMOD,grandLatN4CzBMIDMOD = grand_peak_params(incCzBMIDMOD,latency,rangeN400,'N4|Cz|BMIDMOD',N400=True)\n",
    "grandAmpN4PzBMIDMOD,grandLatN4PzBMIDMOD = grand_peak_params(incPzBMIDMOD,latency,rangeN400,'N4|Pz|BMIDMOD',N400=True)"
   ]
  },
  {
   "cell_type": "code",
   "execution_count": null,
   "metadata": {
    "pycharm": {
     "is_executing": true
    }
   },
   "outputs": [],
   "source": [
    "tones_grandBSD = grandBSD[0]\n",
    "words_grandBSD = grandBSD[1]\n",
    "latency = grandBSD[2]\n",
    "devFzBSD,devCzBSD,devPzBSD = tones_grandBSD[1],tones_grandBSD[3],tones_grandBSD[5]\n",
    "incFzBSD,incCzBSD,incPzBSD = words_grandBSD[1],words_grandBSD[3],words_grandBSD[5]\n",
    "grandAmpN1FzBSD,grandLatN1FzBSD = grand_peak_params(devFzBSD,latency,rangeN100,'N1|Fz|BSD',N100=True)\n",
    "grandAmpN1CzBSD,grandLatN1CzBSD = grand_peak_params(devCzBSD,latency,rangeN100,'N1|Cz|BSD',N100=True)\n",
    "grandAmpN1PzBSD,grandLatN1PzBSD = grand_peak_params(devPzBSD,latency,rangeN100,'N1|Pz|BSD',N100=True)\n",
    "grandAmpP3FzBSD,grandLatP3FzBSD = grand_peak_params(devFzBSD,latency,rangeP300,'P3|Fz|BSD',P300=True)\n",
    "grandAmpP3CzBSD,grandLatP3CzBSD = grand_peak_params(devCzBSD,latency,rangeP300,'P3|Cz|BSD',P300=True)\n",
    "grandAmpP3PzBSD,grandLatP3PzBSD = grand_peak_params(devPzBSD,latency,rangeP300,'P3|Pz|BSD',P300=True)\n",
    "grandAmpN4FzBSD,grandLatN4FzBSD = grand_peak_params(incFzBSD,latency,rangeN400,'N4|Fz|BSD',N400=True)\n",
    "grandAmpN4CzBSD,grandLatN4CzBSD = grand_peak_params(incCzBSD,latency,rangeN400,'N4|Cz|BSD',N400=True)\n",
    "grandAmpN4PzBSD,grandLatN4PzBSD = grand_peak_params(incPzBSD,latency,rangeN400,'N4|Pz|BSD',N400=True)"
   ]
  },
  {
   "attachments": {},
   "cell_type": "markdown",
   "metadata": {},
   "source": [
    "# BVS Implementation"
   ]
  },
  {
   "attachments": {},
   "cell_type": "markdown",
   "metadata": {},
   "source": [
    "<b> measure data prep"
   ]
  },
  {
   "cell_type": "code",
   "execution_count": null,
   "metadata": {},
   "outputs": [],
   "source": [
    "path = \"/Users/joshuaighalo/Library/CloudStorage/OneDrive-SimonFraserUniversity(1sfu)/workspace/datasets/post-process/laurel-place/bvs/\"\n",
    "\n",
    "grand_peaks = np.array((['Group',\"N100_amp\",\"N100_lat\",\"P300_amp\",\"P300_lat\",\"N400_amp\",\"N400_lat\",'Channel'],\n",
    "              ['BND',grandAmpN1CzBND,grandLatN1CzBND,grandAmpP3CzBND,grandLatP3CzBND,grandAmpN4CzBND,grandLatN4CzBND,'Cz'],\n",
    "              ['BND',grandAmpN1FzBND,grandLatN1FzBND,grandAmpP3FzBND,grandLatP3FzBND,grandAmpN4FzBND,grandLatN4FzBND,'Fz'],\n",
    "              ['BND',grandAmpN1PzBND,grandLatN1PzBND,grandAmpP3PzBND,grandLatP3PzBND,grandAmpN4PzBND,grandLatN4PzBND,'Pz'],\n",
    "              ['BMIDMOD',grandAmpN1CzBMIDMOD,grandLatN1CzBMIDMOD,grandAmpP3CzBMIDMOD,grandLatP3CzBMIDMOD,grandAmpN4CzBMIDMOD,grandLatN4CzBMIDMOD,'Cz'],\n",
    "              ['BMIDMOD',grandAmpN1FzBMIDMOD,grandLatN1FzBMIDMOD,grandAmpP3FzBMIDMOD,grandLatP3FzBMIDMOD,grandAmpN4FzBMIDMOD,grandLatN4FzBMIDMOD,'Fz'],\n",
    "              ['BMIDMOD',grandAmpN1PzBMIDMOD,grandLatN1PzBMIDMOD,grandAmpP3PzBMIDMOD,grandLatP3PzBMIDMOD,grandAmpN4PzBMIDMOD,grandLatN4PzBMIDMOD,'Pz'],\n",
    "              ['BSD',grandAmpN1CzBSD,grandLatN1CzBSD,grandAmpP3CzBSD,grandLatP3CzBSD,grandAmpN4CzBSD,grandLatN4CzBSD,'Cz'],\n",
    "              ['BSD',grandAmpN1FzBSD,grandLatN1FzBSD,grandAmpP3FzBSD,grandLatP3FzBSD,grandAmpN4FzBSD,grandLatN4FzBSD,'Fz'],\n",
    "              ['BSD',grandAmpN1PzBSD,grandLatN1PzBSD,grandAmpP3PzBSD,grandLatP3PzBSD,grandAmpN4PzBSD,grandLatN4PzBSD,'Pz']))\n",
    "\n",
    "measuresBND = np.vstack((grand_peaks[0,:],grand_peaks[2,:],grand_peaks[1,:],grand_peaks[3,:])) \n",
    "measuresBMMD = np.vstack((grand_peaks[0,:],grand_peaks[5,:],grand_peaks[4,:],grand_peaks[6,:]))\n",
    "measuresBSD = np.vstack((grand_peaks[0,:],grand_peaks[8,:],grand_peaks[7,:],grand_peaks[9,:]))\n",
    "np.savetxt(path+\"raw_selected_measures_.csv\",np.delete(np.vstack((measuresBND,measuresBMMD,measuresBSD)), (4,8), axis=0),delimiter=\",\",fmt=\"%s\")"
   ]
  },
  {
   "attachments": {},
   "cell_type": "markdown",
   "metadata": {},
   "source": [
    "<b> reference data prep (Normative Data)"
   ]
  },
  {
   "cell_type": "code",
   "execution_count": null,
   "metadata": {},
   "outputs": [],
   "source": [
    "ref_path = \"/Users/joshuaighalo/Library/CloudStorage/OneDrive-SimonFraserUniversity(1sfu)/workspace/datasets/post-process/laurel-place/bvs/\"\n",
    "ref_name = \"refData2_BVS_Elite_Ice_Hockey.xlsx\"\n",
    "reference_data = pd.read_excel(ref_path + ref_name)\n",
    "reference_data = reference_data[reference_data[\"Age\"] >= 0]\n",
    "print(\"number of subjects in reference data: \",'N =',len(reference_data), '| ',round(reference_data[\"Age\"].mean(),1),'+-',round(reference_data[\"Age\"].std(),1),'years', '| ','age range',reference_data[\"Age\"].min(),'-',reference_data[\"Age\"].max(),'years')\n",
    "print(\"female/male numbers in reference data: \", np.sum(reference_data[\"Sex\"] == \"Female\"),'/',np.sum(reference_data[\"Sex\"] == \"Male\"), \"|\",\n",
    "     round(reference_data[reference_data[\"Sex\"] == 'Female'][\"Age\"].mean(),1),'+-',round(reference_data[reference_data[\"Sex\"] == 'Female'][\"Age\"].std(),1),'years', '/',\n",
    "     round(reference_data[reference_data[\"Sex\"] == 'Male'][\"Age\"].mean(),1),'+-',round(reference_data[reference_data[\"Sex\"] == 'Male'][\"Age\"].std(),1),'years')"
   ]
  },
  {
   "attachments": {},
   "cell_type": "markdown",
   "metadata": {},
   "source": [
    "<b> comparative data prep"
   ]
  },
  {
   "cell_type": "code",
   "execution_count": null,
   "metadata": {},
   "outputs": [],
   "source": [
    "comp_name = \"refData2_BVS_Elite_Ice_Hockey.xlsx\"\n",
    "comparison_data = pd.read_excel(ref_path + comp_name)\n",
    "comparison_data = comparison_data[comparison_data[\"Age\"] >= 59]\n",
    "print(\"number of subjects in comparison data: \",'N =',len(comparison_data), '| ',round(comparison_data[\"Age\"].mean(),1),'+-',round(comparison_data[\"Age\"].std(),1),'years', '| ','age range',comparison_data[\"Age\"].min(),'-',comparison_data[\"Age\"].max(),'years')\n",
    "print(\"female/male numbers in reference data: \", np.sum(comparison_data[\"Sex\"] == \"Female\"),'/',np.sum(comparison_data[\"Sex\"] == \"Male\"), \"|\",\n",
    "     round(comparison_data[comparison_data[\"Sex\"] == 'Female'][\"Age\"].mean(),1),'+-',round(comparison_data[comparison_data[\"Sex\"] == 'Female'][\"Age\"].std(),1),'years', '/',\n",
    "     round(comparison_data[comparison_data[\"Sex\"] == 'Male'][\"Age\"].mean(),1),'+-',round(comparison_data[comparison_data[\"Sex\"] == 'Male'][\"Age\"].std(),1),'years')\n",
    "comp_data_csv = comparison_data.to_csv(ref_path + \"/comparison_data.csv\")"
   ]
  },
  {
   "attachments": {},
   "cell_type": "markdown",
   "metadata": {},
   "source": [
    "<b> BVS Custom Plot"
   ]
  },
  {
   "cell_type": "code",
   "execution_count": null,
   "metadata": {},
   "outputs": [],
   "source": [
    "customplot_bvs(comparison_data,grand_peaks,reference_data,[\"High MMSE\", \"Medium MMSE\", \"Low MMSE\",\"Healthy Individuals\"])"
   ]
  },
  {
   "attachments": {},
   "cell_type": "markdown",
   "metadata": {},
   "source": [
    "<b> single groups"
   ]
  },
  {
   "cell_type": "code",
   "execution_count": null,
   "metadata": {},
   "outputs": [],
   "source": [
    "colorTest,colorBND,colorBMMD,colorBSD = 'black','g','b','r'\n",
    "label = ['Test','MMSE (25-30)','MMSE (13-24)','MMSE (0-12)']\n",
    "scoreBND = bvs_individual_grand(measuresBND,reference_data,comparison_data,colorBND,'MMSE (25-30)')\n",
    "scoreBMMD = bvs_individual_grand(measuresBMMD,reference_data,comparison_data,colorBMMD,label[2])\n",
    "scoreBSD = bvs_individual_grand(measuresBSD,reference_data,comparison_data,colorBSD,label[3])"
   ]
  },
  {
   "attachments": {},
   "cell_type": "markdown",
   "metadata": {},
   "source": [
    "<b>ERPs of individual participants"
   ]
  },
  {
   "cell_type": "code",
   "execution_count": null,
   "metadata": {
    "pycharm": {
     "is_executing": true
    }
   },
   "outputs": [],
   "source": [
    "args = {'deviceVersion':1.0,'path':dataPath,'sfreq':cfg.fs,'line':cfg.line,'highPass':1,'lowPass':10,\n",
    "        'erp_data_path':'/Users/joshuaighalo/Library/CloudStorage/OneDrive-SimonFraserUniversity(1sfu)/workspace/datasets/raw-eeg/laurel_place/ERPs/',\n",
    "        'erp_tones_filename':None,\n",
    "        'erp_words_filename':None,\n",
    "        'stimTriggers':cfg.stimTrig,'clip':75,'channel_names':['Fz','Cz','Pz'],'ERPs_MultipleSubjects':True,'erp_plots':True}"
   ]
  },
  {
   "cell_type": "code",
   "execution_count": null,
   "metadata": {},
   "outputs": [],
   "source": [
    "singleBND = pipeline(filenames=qBND,**args)\n",
    "tones_singleBND = singleBND[0]\n",
    "words_singleBND = singleBND[1]\n",
    "# remove any array in the 2nd axis of a 3D array that has \n",
    "single_latency = singleBND[2]         # latency is the same for all participants\n",
    "single_devFzBND,single_devCzBND,single_devPzBND = tones_singleBND[:,1,:],tones_singleBND[:,3,:],tones_singleBND[:,5,:]\n",
    "single_incFzBND,single_incCzBND,single_incPzBND = words_singleBND[:,1,:],words_singleBND[:,3,:],words_singleBND[:,5,:]  "
   ]
  },
  {
   "cell_type": "code",
   "execution_count": null,
   "metadata": {},
   "outputs": [],
   "source": [
    "singleBMIDMOD = pipeline(filenames=qBMIDMOD,**args)\n",
    "tones_singleBMIDMOD = singleBMIDMOD[0]\n",
    "words_singleBMIDMOD = singleBMIDMOD[1]\n",
    "single_latency = singleBMIDMOD[2]         # latency is the same for all participants\n",
    "single_devFzBMIDMOD,single_devCzBMIDMOD,single_devPzBMIDMOD = tones_singleBMIDMOD[:,1,:],tones_singleBMIDMOD[:,3,:],tones_singleBMIDMOD[:,5,:]\n",
    "single_incFzBMIDMOD,single_incCzBMIDMOD,single_incPzBMIDMOD = words_singleBMIDMOD[:,1,:],words_singleBMIDMOD[:,3,:],words_singleBMIDMOD[:,5,:]"
   ]
  },
  {
   "cell_type": "code",
   "execution_count": null,
   "metadata": {},
   "outputs": [],
   "source": [
    "singleBSD = pipeline(filenames=qBSD,**args)\n",
    "tones_singleBSD = singleBSD[0]\n",
    "words_singleBSD = singleBSD[1]\n",
    "single_latency = singleBSD[2]         # latency is the same for all participants\n",
    "single_devFzBSD,single_devCzBSD,single_devPzBSD = tones_singleBSD[:,1,:],tones_singleBSD[:,3,:],tones_singleBSD[:,5,:]\n",
    "single_incFzBSD,single_incCzBSD,single_incPzBSD = words_singleBSD[:,1,:],words_singleBSD[:,3,:],words_singleBSD[:,5,:]"
   ]
  },
  {
   "attachments": {},
   "cell_type": "markdown",
   "metadata": {},
   "source": [
    "<b> Sanity Check: mean of amplitudes within range on grand average"
   ]
  },
  {
   "cell_type": "code",
   "execution_count": null,
   "metadata": {},
   "outputs": [],
   "source": [
    "win_1_N1,win_2_N1,win_3_N1 = [180,205],[205,230],[230,255]\n",
    "win_1_P3,win_2_P3,win_3_P3 = [400,450],[450,500],[500,550]\n",
    "win_1_N4,win_2_N4,win_3_N4 = [500,600],[600,700],[700,800] "
   ]
  },
  {
   "cell_type": "code",
   "execution_count": null,
   "metadata": {},
   "outputs": [],
   "source": [
    "gmaFzBND_N1W1 = mean_param_extractor(devFzBND,latency,win_1_N1,'N1|Fz|BND|Win 1',single_waveform=True,N100=True)\n",
    "gmaFzBND_N1W2 = mean_param_extractor(devFzBND,latency,win_2_N1,'N1|Fz|BND|Win 2',single_waveform=True,N100=True)\n",
    "gmaFzBND_N1W3 = mean_param_extractor(devFzBND,latency,win_3_N1,'N1|Fz|BND|Win 3',single_waveform=True,N100=True)\n",
    "gmaCzBND_N1W1 = mean_param_extractor(devCzBND,latency,win_1_N1,'N1|Cz|BND|Win 1',single_waveform=True,N100=True)\n",
    "gmaCzBND_N1W2 = mean_param_extractor(devCzBND,latency,win_2_N1,'N1|Cz|BND|Win 2',single_waveform=True,N100=True)\n",
    "gmaCzBND_N1W3 = mean_param_extractor(devCzBND,latency,win_3_N1,'N1|Cz|BND|Win 3',single_waveform=True,N100=True)\n",
    "gmaPzBND_N1W1 = mean_param_extractor(devPzBND,latency,win_1_N1,'N1|Pz|BND|Win 1',single_waveform=True,N100=True)\n",
    "gmaPzBND_N1W2 = mean_param_extractor(devPzBND,latency,win_2_N1,'N1|Pz|BND|Win 2',single_waveform=True,N100=True)\n",
    "gmaPzBND_N1W3 = mean_param_extractor(devPzBND,latency,win_3_N1,'N1|Pz|BND|Win 3',single_waveform=True,N100=True)\n",
    "gmaFzBND_P3W1 = mean_param_extractor(devFzBND,latency,win_1_P3,'P3|Fz|BND|Win 1',single_waveform=True,P300=True)\n",
    "gmaFzBND_P3W2 = mean_param_extractor(devFzBND,latency,win_2_P3,'P3|Fz|BND|Win 2',single_waveform=True,P300=True)\n",
    "gmaFzBND_P3W3 = mean_param_extractor(devFzBND,latency,win_3_P3,'P3|Fz|BND|Win 3',single_waveform=True,P300=True)\n",
    "gmaCzBND_P3W1 = mean_param_extractor(devCzBND,latency,win_1_P3,'P3|Cz|BND|Win 1',single_waveform=True,P300=True)\n",
    "gmaCzBND_P3W2 = mean_param_extractor(devCzBND,latency,win_2_P3,'P3|Cz|BND|Win 2',single_waveform=True,P300=True)\n",
    "gmaCzBND_P3W3 = mean_param_extractor(devCzBND,latency,win_3_P3,'P3|Cz|BND|Win 3',single_waveform=True,P300=True)\n",
    "gmaPzBND_P3W1 = mean_param_extractor(devPzBND,latency,win_1_P3,'P3|Pz|BND|Win 1',single_waveform=True,P300=True)\n",
    "gmaPzBND_P3W2 = mean_param_extractor(devPzBND,latency,win_2_P3,'P3|Pz|BND|Win 2',single_waveform=True,P300=True)\n",
    "gmaPzBND_P3W3 = mean_param_extractor(devPzBND,latency,win_3_P3,'P3|Pz|BND|Win 3',single_waveform=True,P300=True)\n",
    "gmaFzBND_N4W1 = mean_param_extractor(incFzBND,latency,win_1_N4,'N4|Fz|BND|Win 1',single_waveform=True,N400=True)\n",
    "gmaFzBND_N4W2 = mean_param_extractor(incFzBND,latency,win_2_N4,'N4|Fz|BND|Win 2',single_waveform=True,N400=True)\n",
    "gmaFzBND_N4W3 = mean_param_extractor(incFzBND,latency,win_3_N4,'N4|Fz|BND|Win 3',single_waveform=True,N400=True)\n",
    "gmaCzBND_N4W1 = mean_param_extractor(incCzBND,latency,win_1_N4,'N4|Cz|BND|Win 1',single_waveform=True,N400=True)\n",
    "gmaCzBND_N4W2 = mean_param_extractor(incCzBND,latency,win_2_N4,'N4|Cz|BND|Win 2',single_waveform=True,N400=True)\n",
    "gmaCzBND_N4W3 = mean_param_extractor(incCzBND,latency,win_3_N4,'N4|Cz|BND|Win 3',single_waveform=True,N400=True)\n",
    "gmaPzBND_N4W1 = mean_param_extractor(incPzBND,latency,win_1_N4,'N4|Pz|BND|Win 1',single_waveform=True,N400=True)\n",
    "gmaPzBND_N4W2 = mean_param_extractor(incPzBND,latency,win_2_N4,'N4|Pz|BND|Win 2',single_waveform=True,N400=True)\n",
    "gmaPzBND_N4W3 = mean_param_extractor(incPzBND,latency,win_3_N4,'N4|Pz|BND|Win 3',single_waveform=True,N400=True)"
   ]
  },
  {
   "cell_type": "code",
   "execution_count": null,
   "metadata": {},
   "outputs": [],
   "source": [
    "gmaFzBMIDMOD_N1W1 = mean_param_extractor(devFzBMIDMOD,latency,win_1_N1,'N1|Fz|BMIDMOD|Win 1',single_waveform=True,N100=True)\n",
    "gmaFzBMIDMOD_N1W2 = mean_param_extractor(devFzBMIDMOD,latency,win_2_N1,'N1|Fz|BMIDMOD|Win 2',single_waveform=True,N100=True)\n",
    "gmaFzBMIDMOD_N1W3 = mean_param_extractor(devFzBMIDMOD,latency,win_3_N1,'N1|Fz|BMIDMOD|Win 3',single_waveform=True,N100=True)\n",
    "gmaCzBMIDMOD_N1W1 = mean_param_extractor(devCzBMIDMOD,latency,win_1_N1,'N1|Cz|BMIDMOD|Win 1',single_waveform=True,N100=True)\n",
    "gmaCzBMIDMOD_N1W2 = mean_param_extractor(devCzBMIDMOD,latency,win_2_N1,'N1|Cz|BMIDMOD|Win 2',single_waveform=True,N100=True)\n",
    "gmaCzBMIDMOD_N1W3 = mean_param_extractor(devCzBMIDMOD,latency,win_3_N1,'N1|Cz|BMIDMOD|Win 3',single_waveform=True,N100=True)\n",
    "gmaPzBMIDMOD_N1W1 = mean_param_extractor(devPzBMIDMOD,latency,win_1_N1,'N1|Pz|BMIDMOD|Win 1',single_waveform=True,N100=True)\n",
    "gmaPzBMIDMOD_N1W2 = mean_param_extractor(devPzBMIDMOD,latency,win_2_N1,'N1|Pz|BMIDMOD|Win 2',single_waveform=True,N100=True)\n",
    "gmaPzBMIDMOD_N1W3 = mean_param_extractor(devPzBMIDMOD,latency,win_3_N1,'N1|Pz|BMIDMOD|Win 3',single_waveform=True,N100=True)\n",
    "gmaFzBMIDMOD_P3W1 = mean_param_extractor(devFzBMIDMOD,latency,win_1_P3,'P3|Fz|BMIDMOD|Win 1',single_waveform=True,P300=True)\n",
    "gmaFzBMIDMOD_P3W2 = mean_param_extractor(devFzBMIDMOD,latency,win_2_P3,'P3|Fz|BMIDMOD|Win 2',single_waveform=True,P300=True)\n",
    "gmaFzBMIDMOD_P3W3 = mean_param_extractor(devFzBMIDMOD,latency,win_3_P3,'P3|Fz|BMIDMOD|Win 3',single_waveform=True,P300=True)\n",
    "gmaCzBMIDMOD_P3W1 = mean_param_extractor(devCzBMIDMOD,latency,win_1_P3,'P3|Cz|BMIDMOD|Win 1',single_waveform=True,P300=True)\n",
    "gmaCzBMIDMOD_P3W2 = mean_param_extractor(devCzBMIDMOD,latency,win_2_P3,'P3|Cz|BMIDMOD|Win 2',single_waveform=True,P300=True)\n",
    "gmaCzBMIDMOD_P3W3 = mean_param_extractor(devCzBMIDMOD,latency,win_3_P3,'P3|Cz|BMIDMOD|Win 3',single_waveform=True,P300=True)\n",
    "gmaPzBMIDMOD_P3W1 = mean_param_extractor(devPzBMIDMOD,latency,win_1_P3,'P3|Pz|BMIDMOD|Win 1',single_waveform=True,P300=True)\n",
    "gmaPzBMIDMOD_P3W2 = mean_param_extractor(devPzBMIDMOD,latency,win_2_P3,'P3|Pz|BMIDMOD|Win 2',single_waveform=True,P300=True)\n",
    "gmaPzBMIDMOD_P3W3 = mean_param_extractor(devPzBMIDMOD,latency,win_3_P3,'P3|Pz|BMIDMOD|Win 3',single_waveform=True,P300=True)\n",
    "gmaFzBMIDMOD_N4W1 = mean_param_extractor(incFzBMIDMOD,latency,win_1_N4,'N4|Fz|BMIDMOD|Win 1',single_waveform=True,N400=True)\n",
    "gmaFzBMIDMOD_N4W2 = mean_param_extractor(incFzBMIDMOD,latency,win_2_N4,'N4|Fz|BMIDMOD|Win 2',single_waveform=True,N400=True)\n",
    "gmaFzBMIDMOD_N4W3 = mean_param_extractor(incFzBMIDMOD,latency,win_3_N4,'N4|Fz|BMIDMOD|Win 3',single_waveform=True,N400=True)\n",
    "gmaCzBMIDMOD_N4W1 = mean_param_extractor(incCzBMIDMOD,latency,win_1_N4,'N4|Cz|BMIDMOD|Win 1',single_waveform=True,N400=True)\n",
    "gmaCzBMIDMOD_N4W2 = mean_param_extractor(incCzBMIDMOD,latency,win_2_N4,'N4|Cz|BMIDMOD|Win 2',single_waveform=True,N400=True)\n",
    "gmaCzBMIDMOD_N4W3 = mean_param_extractor(incCzBMIDMOD,latency,win_3_N4,'N4|Cz|BMIDMOD|Win 3',single_waveform=True,N400=True)\n",
    "gmaPzBMIDMOD_N4W1 = mean_param_extractor(incPzBMIDMOD,latency,win_1_N4,'N4|Pz|BMIDMOD|Win 1',single_waveform=True,N400=True)\n",
    "gmaPzBMIDMOD_N4W2 = mean_param_extractor(incPzBMIDMOD,latency,win_2_N4,'N4|Pz|BMIDMOD|Win 2',single_waveform=True,N400=True)\n",
    "gmaPzBMIDMOD_N4W3 = mean_param_extractor(incPzBMIDMOD,latency,win_3_N4,'N4|Pz|BMIDMOD|Win 3',single_waveform=True,N400=True)"
   ]
  },
  {
   "cell_type": "code",
   "execution_count": null,
   "metadata": {},
   "outputs": [],
   "source": [
    "gmaFzBSD_N1W1 = mean_param_extractor(devFzBSD,latency,win_1_N1,'N1|Fz|BSD|Win 1',single_waveform=True,N100=True)\n",
    "gmaFzBSD_N1W2 = mean_param_extractor(devFzBSD,latency,win_2_N1,'N1|Fz|BSD|Win 2',single_waveform=True,N100=True)\n",
    "gmaFzBSD_N1W3 = mean_param_extractor(devFzBSD,latency,win_3_N1,'N1|Fz|BSD|Win 3',single_waveform=True,N100=True)\n",
    "gmaCzBSD_N1W1 = mean_param_extractor(devCzBSD,latency,win_1_N1,'N1|Cz|BSD|Win 1',single_waveform=True,N100=True)\n",
    "gmaCzBSD_N1W2 = mean_param_extractor(devCzBSD,latency,win_2_N1,'N1|Cz|BSD|Win 2',single_waveform=True,N100=True)\n",
    "gmaCzBSD_N1W3 = mean_param_extractor(devCzBSD,latency,win_3_N1,'N1|Cz|BSD|Win 3',single_waveform=True,N100=True)\n",
    "gmaPzBSD_N1W1 = mean_param_extractor(devPzBSD,latency,win_1_N1,'N1|Pz|BSD|Win 1',single_waveform=True,N100=True)\n",
    "gmaPzBSD_N1W2 = mean_param_extractor(devPzBSD,latency,win_2_N1,'N1|Pz|BSD|Win 2',single_waveform=True,N100=True)\n",
    "gmaPzBSD_N1W3 = mean_param_extractor(devPzBSD,latency,win_3_N1,'N1|Pz|BSD|Win 3',single_waveform=True,N100=True)\n",
    "gmaFzBSD_P3W1 = mean_param_extractor(devFzBSD,latency,win_1_P3,'P3|Fz|BSD|Win 1',single_waveform=True,P300=True)\n",
    "gmaFzBSD_P3W2 = mean_param_extractor(devFzBSD,latency,win_2_P3,'P3|Fz|BSD|Win 2',single_waveform=True,P300=True)\n",
    "gmaFzBSD_P3W3 = mean_param_extractor(devFzBSD,latency,win_3_P3,'P3|Fz|BSD|Win 3',single_waveform=True,P300=True)\n",
    "gmaCzBSD_P3W1 = mean_param_extractor(devCzBSD,latency,win_1_P3,'P3|Cz|BSD|Win 1',single_waveform=True,P300=True)\n",
    "gmaCzBSD_P3W2 = mean_param_extractor(devCzBSD,latency,win_2_P3,'P3|Cz|BSD|Win 2',single_waveform=True,P300=True)\n",
    "gmaCzBSD_P3W3 = mean_param_extractor(devCzBSD,latency,win_3_P3,'P3|Cz|BSD|Win 3',single_waveform=True,P300=True)\n",
    "gmaPzBSD_P3W1 = mean_param_extractor(devPzBSD,latency,win_1_P3,'P3|Pz|BSD|Win 1',single_waveform=True,P300=True)\n",
    "gmaPzBSD_P3W2 = mean_param_extractor(devPzBSD,latency,win_2_P3,'P3|Pz|BSD|Win 2',single_waveform=True,P300=True)\n",
    "gmaPzBSD_P3W3 = mean_param_extractor(devPzBSD,latency,win_3_P3,'P3|Pz|BSD|Win 3',single_waveform=True,P300=True)\n",
    "gmaFzBSD_N4W1 = mean_param_extractor(incFzBSD,latency,win_1_N4,'N4|Fz|BSD|Win 1',single_waveform=True,N400=True)\n",
    "gmaFzBSD_N4W2 = mean_param_extractor(incFzBSD,latency,win_2_N4,'N4|Fz|BSD|Win 2',single_waveform=True,N400=True)\n",
    "gmaFzBSD_N4W3 = mean_param_extractor(incFzBSD,latency,win_3_N4,'N4|Fz|BSD|Win 3',single_waveform=True,N400=True)\n",
    "gmaCzBSD_N4W1 = mean_param_extractor(incCzBSD,latency,win_1_N4,'N4|Cz|BSD|Win 1',single_waveform=True,N400=True)\n",
    "gmaCzBSD_N4W2 = mean_param_extractor(incCzBSD,latency,win_2_N4,'N4|Cz|BSD|Win 2',single_waveform=True,N400=True)\n",
    "gmaCzBSD_N4W3 = mean_param_extractor(incCzBSD,latency,win_3_N4,'N4|Cz|BSD|Win 3',single_waveform=True,N400=True)\n",
    "gmaPzBSD_N4W1 = mean_param_extractor(incPzBSD,latency,win_1_N4,'N4|Pz|BSD|Win 1',single_waveform=True,N400=True)\n",
    "gmaPzBSD_N4W2 = mean_param_extractor(incPzBSD,latency,win_2_N4,'N4|Pz|BSD|Win 2',single_waveform=True,N400=True)\n",
    "gmaPzBSD_N4W3 = mean_param_extractor(incPzBSD,latency,win_3_N4,'N4|Pz|BSD|Win 3',single_waveform=True,N400=True)"
   ]
  },
  {
   "attachments": {},
   "cell_type": "markdown",
   "metadata": {},
   "source": [
    "<b> Mean amplitudes of individual waveforms within groups per windows"
   ]
  },
  {
   "cell_type": "code",
   "execution_count": null,
   "metadata": {},
   "outputs": [],
   "source": [
    "maFzBND_N1W1 = mean_param_extractor(single_devFzBND,latency,win_1_N1,'N1|Fz|BND|Win 1',multiple_waveforms=True,N100=True)\n",
    "maFzBND_N1W2 = mean_param_extractor(single_devFzBND,latency,win_2_N1,'N1|Fz|BND|Win 2',multiple_waveforms=True,N100=True)\n",
    "maFzBND_N1W3 = mean_param_extractor(single_devFzBND,latency,win_3_N1,'N1|Fz|BND|Win 3',multiple_waveforms=True,N100=True)\n",
    "maCzBND_N1W1 = mean_param_extractor(single_devCzBND,latency,win_1_N1,'N1|Cz|BND|Win 1',multiple_waveforms=True,N100=True)\n",
    "maCzBND_N1W2 = mean_param_extractor(single_devCzBND,latency,win_2_N1,'N1|Cz|BND|Win 2',multiple_waveforms=True,N100=True)\n",
    "maCzBND_N1W3 = mean_param_extractor(single_devCzBND,latency,win_3_N1,'N1|Cz|BND|Win 3',multiple_waveforms=True,N100=True)\n",
    "maPzBND_N1W1 = mean_param_extractor(single_devPzBND,latency,win_1_N1,'N1|Pz|BND|Win 1',multiple_waveforms=True,N100=True)\n",
    "maPzBND_N1W2 = mean_param_extractor(single_devPzBND,latency,win_2_N1,'N1|Pz|BND|Win 2',multiple_waveforms=True,N100=True)\n",
    "maPzBND_N1W3 = mean_param_extractor(single_devPzBND,latency,win_3_N1,'N1|Pz|BND|Win 3',multiple_waveforms=True,N100=True)\n",
    "raFzBND_N1W1 = range_param_extractor(single_devFzBND,latency,win_1_N1,multiple_waveforms=True,N100=True)\n",
    "raFzBND_N1W2 = range_param_extractor(single_devFzBND,latency,win_2_N1,multiple_waveforms=True,N100=True)\n",
    "raFzBND_N1W3 = range_param_extractor(single_devFzBND,latency,win_3_N1,multiple_waveforms=True,N100=True)\n",
    "raCzBND_N1W1 = range_param_extractor(single_devCzBND,latency,win_1_N1,multiple_waveforms=True,N100=True)\n",
    "raCzBND_N1W2 = range_param_extractor(single_devCzBND,latency,win_2_N1,multiple_waveforms=True,N100=True)\n",
    "raCzBND_N1W3 = range_param_extractor(single_devCzBND,latency,win_3_N1,multiple_waveforms=True,N100=True)\n",
    "raPzBND_N1W1 = range_param_extractor(single_devPzBND,latency,win_1_N1,multiple_waveforms=True,N100=True)\n",
    "raPzBND_N1W2 = range_param_extractor(single_devPzBND,latency,win_2_N1,multiple_waveforms=True,N100=True)\n",
    "raPzBND_N1W3 = range_param_extractor(single_devPzBND,latency,win_3_N1,multiple_waveforms=True,N100=True)"
   ]
  },
  {
   "cell_type": "code",
   "execution_count": null,
   "metadata": {},
   "outputs": [],
   "source": [
    "maFzBND_P3W1 = mean_param_extractor(single_devFzBND,latency,win_1_P3,'P3|Fz|BND|Win 1',multiple_waveforms=True,P300=True)\n",
    "maFzBND_P3W2 = mean_param_extractor(single_devFzBND,latency,win_2_P3,'P3|Fz|BND|Win 2',multiple_waveforms=True,P300=True)\n",
    "maFzBND_P3W3 = mean_param_extractor(single_devFzBND,latency,win_3_P3,'P3|Fz|BND|Win 3',multiple_waveforms=True,P300=True)\n",
    "maCzBND_P3W1 = mean_param_extractor(single_devCzBND,latency,win_1_P3,'P3|Cz|BND|Win 1',multiple_waveforms=True,P300=True)\n",
    "maCzBND_P3W2 = mean_param_extractor(single_devCzBND,latency,win_2_P3,'P3|Cz|BND|Win 2',multiple_waveforms=True,P300=True)\n",
    "maCzBND_P3W3 = mean_param_extractor(single_devCzBND,latency,win_3_P3,'P3|Cz|BND|Win 3',multiple_waveforms=True,P300=True)\n",
    "maPzBND_P3W1 = mean_param_extractor(single_devPzBND,latency,win_1_P3,'P3|Pz|BND|Win 1',multiple_waveforms=True,P300=True)\n",
    "maPzBND_P3W2 = mean_param_extractor(single_devPzBND,latency,win_2_P3,'P3|Pz|BND|Win 2',multiple_waveforms=True,P300=True)\n",
    "maPzBND_P3W3 = mean_param_extractor(single_devPzBND,latency,win_3_P3,'P3|Pz|BND|Win 3',multiple_waveforms=True,P300=True)\n",
    "raFzBND_P3W1 = range_param_extractor(single_devFzBND,latency,win_1_P3,multiple_waveforms=True,P300=True)\n",
    "raFzBND_P3W2 = range_param_extractor(single_devFzBND,latency,win_2_P3,multiple_waveforms=True,P300=True)\n",
    "raFzBND_P3W3 = range_param_extractor(single_devFzBND,latency,win_3_P3,multiple_waveforms=True,P300=True)\n",
    "raCzBND_P3W1 = range_param_extractor(single_devCzBND,latency,win_1_P3,multiple_waveforms=True,P300=True)\n",
    "raCzBND_P3W2 = range_param_extractor(single_devCzBND,latency,win_2_P3,multiple_waveforms=True,P300=True)\n",
    "raCzBND_P3W3 = range_param_extractor(single_devCzBND,latency,win_3_P3,multiple_waveforms=True,P300=True)\n",
    "raPzBND_P3W1 = range_param_extractor(single_devPzBND,latency,win_1_P3,multiple_waveforms=True,P300=True)\n",
    "raPzBND_P3W2 = range_param_extractor(single_devPzBND,latency,win_2_P3,multiple_waveforms=True,P300=True)\n",
    "raPzBND_P3W3 = range_param_extractor(single_devPzBND,latency,win_3_P3,multiple_waveforms=True,P300=True)"
   ]
  },
  {
   "cell_type": "code",
   "execution_count": null,
   "metadata": {},
   "outputs": [],
   "source": [
    "maFzBND_N4W1 = mean_param_extractor(single_incFzBND,latency,win_1_N4,'N4|Fz|BND|Win 1',multiple_waveforms=True,N400=True)\n",
    "maFzBND_N4W2 = mean_param_extractor(single_incFzBND,latency,win_2_N4,'N4|Fz|BND|Win 2',multiple_waveforms=True,N400=True)\n",
    "maFzBND_N4W3 = mean_param_extractor(single_incFzBND,latency,win_3_N4,'N4|Fz|BND|Win 3',multiple_waveforms=True,N400=True)\n",
    "maCzBND_N4W1 = mean_param_extractor(single_incCzBND,latency,win_1_N4,'N4|Cz|BND|Win 1',multiple_waveforms=True,N400=True)\n",
    "maCzBND_N4W2 = mean_param_extractor(single_incCzBND,latency,win_2_N4,'N4|Cz|BND|Win 2',multiple_waveforms=True,N400=True)\n",
    "maCzBND_N4W3 = mean_param_extractor(single_incCzBND,latency,win_3_N4,'N4|Cz|BND|Win 3',multiple_waveforms=True,N400=True)\n",
    "maPzBND_N4W1 = mean_param_extractor(single_incPzBND,latency,win_1_N4,'N4|Pz|BND|Win 1',multiple_waveforms=True,N400=True)\n",
    "maPzBND_N4W2 = mean_param_extractor(single_incPzBND,latency,win_2_N4,'N4|Pz|BND|Win 2',multiple_waveforms=True,N400=True)\n",
    "maPzBND_N4W3 = mean_param_extractor(single_incPzBND,latency,win_3_N4,'N4|Pz|BND|Win 3',multiple_waveforms=True,N400=True)\n",
    "raFzBND_N4W1 = range_param_extractor(single_incFzBND,latency,win_1_N4,multiple_waveforms=True,N400=True)\n",
    "raFzBND_N4W2 = range_param_extractor(single_incFzBND,latency,win_2_N4,multiple_waveforms=True,N400=True)\n",
    "raFzBND_N4W3 = range_param_extractor(single_incFzBND,latency,win_3_N4,multiple_waveforms=True,N400=True)\n",
    "raCzBND_N4W1 = range_param_extractor(single_incCzBND,latency,win_1_N4,multiple_waveforms=True,N400=True)\n",
    "raCzBND_N4W2 = range_param_extractor(single_incCzBND,latency,win_2_N4,multiple_waveforms=True,N400=True)\n",
    "raCzBND_N4W3 = range_param_extractor(single_incCzBND,latency,win_3_N4,multiple_waveforms=True,N400=True)\n",
    "raPzBND_N4W1 = range_param_extractor(single_incPzBND,latency,win_1_N4,multiple_waveforms=True,N400=True)\n",
    "raPzBND_N4W2 = range_param_extractor(single_incPzBND,latency,win_2_N4,multiple_waveforms=True,N400=True)\n",
    "raPzBND_N4W3 = range_param_extractor(single_incPzBND,latency,win_3_N4,multiple_waveforms=True,N400=True)"
   ]
  },
  {
   "cell_type": "code",
   "execution_count": null,
   "metadata": {},
   "outputs": [],
   "source": [
    "maFzBMIDMOD_N1W1 = mean_param_extractor(single_devFzBMIDMOD,latency,win_1_N1,'N1|Fz|BMIDMOD|Win 1',multiple_waveforms=True,N100=True)\n",
    "maFzBMIDMOD_N1W2 = mean_param_extractor(single_devFzBMIDMOD,latency,win_2_N1,'N1|Fz|BMIDMOD|Win 2',multiple_waveforms=True,N100=True)\n",
    "maFzBMIDMOD_N1W3 = mean_param_extractor(single_devFzBMIDMOD,latency,win_3_N1,'N1|Fz|BMIDMOD|Win 3',multiple_waveforms=True,N100=True)\n",
    "maCzBMIDMOD_N1W1 = mean_param_extractor(single_devCzBMIDMOD,latency,win_1_N1,'N1|Cz|BMIDMOD|Win 1',multiple_waveforms=True,N100=True)\n",
    "maCzBMIDMOD_N1W2 = mean_param_extractor(single_devCzBMIDMOD,latency,win_2_N1,'N1|Cz|BMIDMOD|Win 2',multiple_waveforms=True,N100=True)\n",
    "maCzBMIDMOD_N1W3 = mean_param_extractor(single_devCzBMIDMOD,latency,win_3_N1,'N1|Cz|BMIDMOD|Win 3',multiple_waveforms=True,N100=True)\n",
    "maPzBMIDMOD_N1W1 = mean_param_extractor(single_devPzBMIDMOD,latency,win_1_N1,'N1|Pz|BMIDMOD|Win 1',multiple_waveforms=True,N100=True)\n",
    "maPzBMIDMOD_N1W2 = mean_param_extractor(single_devPzBMIDMOD,latency,win_2_N1,'N1|Pz|BMIDMOD|Win 2',multiple_waveforms=True,N100=True)\n",
    "maPzBMIDMOD_N1W3 = mean_param_extractor(single_devPzBMIDMOD,latency,win_3_N1,'N1|Pz|BMIDMOD|Win 3',multiple_waveforms=True,N100=True)\n",
    "raFzBMIDMOD_N1W1 = range_param_extractor(single_devFzBMIDMOD,latency,win_1_N1,multiple_waveforms=True,N100=True)\n",
    "raFzBMIDMOD_N1W2 = range_param_extractor(single_devFzBMIDMOD,latency,win_2_N1,multiple_waveforms=True,N100=True)\n",
    "raFzBMIDMOD_N1W3 = range_param_extractor(single_devFzBMIDMOD,latency,win_3_N1,multiple_waveforms=True,N100=True)\n",
    "raCzBMIDMOD_N1W1 = range_param_extractor(single_devCzBMIDMOD,latency,win_1_N1,multiple_waveforms=True,N100=True)\n",
    "raCzBMIDMOD_N1W2 = range_param_extractor(single_devCzBMIDMOD,latency,win_2_N1,multiple_waveforms=True,N100=True)\n",
    "raCzBMIDMOD_N1W3 = range_param_extractor(single_devCzBMIDMOD,latency,win_3_N1,multiple_waveforms=True,N100=True)\n",
    "raPzBMIDMOD_N1W1 = range_param_extractor(single_devPzBMIDMOD,latency,win_1_N1,multiple_waveforms=True,N100=True)\n",
    "raPzBMIDMOD_N1W2 = range_param_extractor(single_devPzBMIDMOD,latency,win_2_N1,multiple_waveforms=True,N100=True)\n",
    "raPzBMIDMOD_N1W3 = range_param_extractor(single_devPzBMIDMOD,latency,win_3_N1,multiple_waveforms=True,N100=True)"
   ]
  },
  {
   "cell_type": "code",
   "execution_count": null,
   "metadata": {},
   "outputs": [],
   "source": [
    "maFzBMIDMOD_P3W1 = mean_param_extractor(single_devFzBMIDMOD,latency,win_1_P3,'P3|Fz|BMIDMOD|Win 1',multiple_waveforms=True,P300=True)\n",
    "maFzBMIDMOD_P3W2 = mean_param_extractor(single_devFzBMIDMOD,latency,win_2_P3,'P3|Fz|BMIDMOD|Win 2',multiple_waveforms=True,P300=True)\n",
    "maFzBMIDMOD_P3W3 = mean_param_extractor(single_devFzBMIDMOD,latency,win_3_P3,'P3|Fz|BMIDMOD|Win 3',multiple_waveforms=True,P300=True)\n",
    "maCzBMIDMOD_P3W1 = mean_param_extractor(single_devCzBMIDMOD,latency,win_1_P3,'P3|Cz|BMIDMOD|Win 1',multiple_waveforms=True,P300=True)\n",
    "maCzBMIDMOD_P3W2 = mean_param_extractor(single_devCzBMIDMOD,latency,win_2_P3,'P3|Cz|BMIDMOD|Win 2',multiple_waveforms=True,P300=True)\n",
    "maCzBMIDMOD_P3W3 = mean_param_extractor(single_devCzBMIDMOD,latency,win_3_P3,'P3|Cz|BMIDMOD|Win 3',multiple_waveforms=True,P300=True)\n",
    "maPzBMIDMOD_P3W1 = mean_param_extractor(single_devPzBMIDMOD,latency,win_1_P3,'P3|Pz|BMIDMOD|Win 1',multiple_waveforms=True,P300=True)\n",
    "maPzBMIDMOD_P3W2 = mean_param_extractor(single_devPzBMIDMOD,latency,win_2_P3,'P3|Pz|BMIDMOD|Win 2',multiple_waveforms=True,P300=True)\n",
    "maPzBMIDMOD_P3W3 = mean_param_extractor(single_devPzBMIDMOD,latency,win_3_P3,'P3|Pz|BMIDMOD|Win 3',multiple_waveforms=True,P300=True)\n",
    "raFzBMIDMOD_P3W1 = range_param_extractor(single_devFzBMIDMOD,latency,win_1_P3,multiple_waveforms=True,P300=True)\n",
    "raFzBMIDMOD_P3W2 = range_param_extractor(single_devFzBMIDMOD,latency,win_2_P3,multiple_waveforms=True,P300=True)\n",
    "raFzBMIDMOD_P3W3 = range_param_extractor(single_devFzBMIDMOD,latency,win_3_P3,multiple_waveforms=True,P300=True)\n",
    "raCzBMIDMOD_P3W1 = range_param_extractor(single_devCzBMIDMOD,latency,win_1_P3,multiple_waveforms=True,P300=True)\n",
    "raCzBMIDMOD_P3W2 = range_param_extractor(single_devCzBMIDMOD,latency,win_2_P3,multiple_waveforms=True,P300=True)\n",
    "raCzBMIDMOD_P3W3 = range_param_extractor(single_devCzBMIDMOD,latency,win_3_P3,multiple_waveforms=True,P300=True)\n",
    "raPzBMIDMOD_P3W1 = range_param_extractor(single_devPzBMIDMOD,latency,win_1_P3,multiple_waveforms=True,P300=True)\n",
    "raPzBMIDMOD_P3W2 = range_param_extractor(single_devPzBMIDMOD,latency,win_2_P3,multiple_waveforms=True,P300=True)\n",
    "raPzBMIDMOD_P3W3 = range_param_extractor(single_devPzBMIDMOD,latency,win_3_P3,multiple_waveforms=True,P300=True)"
   ]
  },
  {
   "cell_type": "code",
   "execution_count": null,
   "metadata": {},
   "outputs": [],
   "source": [
    "maFzBMIDMOD_N4W1 = mean_param_extractor(single_incFzBMIDMOD,latency,win_1_N4,'N4|Fz|BMIDMOD|Win 1',multiple_waveforms=True,N400=True)\n",
    "maFzBMIDMOD_N4W2 = mean_param_extractor(single_incFzBMIDMOD,latency,win_2_N4,'N4|Fz|BMIDMOD|Win 2',multiple_waveforms=True,N400=True)\n",
    "maFzBMIDMOD_N4W3 = mean_param_extractor(single_incFzBMIDMOD,latency,win_3_N4,'N4|Fz|BMIDMOD|Win 3',multiple_waveforms=True,N400=True)\n",
    "maCzBMIDMOD_N4W1 = mean_param_extractor(single_incCzBMIDMOD,latency,win_1_N4,'N4|Cz|BMIDMOD|Win 1',multiple_waveforms=True,N400=True)\n",
    "maCzBMIDMOD_N4W2 = mean_param_extractor(single_incCzBMIDMOD,latency,win_2_N4,'N4|Cz|BMIDMOD|Win 2',multiple_waveforms=True,N400=True)\n",
    "maCzBMIDMOD_N4W3 = mean_param_extractor(single_incCzBMIDMOD,latency,win_3_N4,'N4|Cz|BMIDMOD|Win 3',multiple_waveforms=True,N400=True)\n",
    "maPzBMIDMOD_N4W1 = mean_param_extractor(single_incPzBMIDMOD,latency,win_1_N4,'N4|Pz|BMIDMOD|Win 1',multiple_waveforms=True,N400=True)\n",
    "maPzBMIDMOD_N4W2 = mean_param_extractor(single_incPzBMIDMOD,latency,win_2_N4,'N4|Pz|BMIDMOD|Win 2',multiple_waveforms=True,N400=True)\n",
    "maPzBMIDMOD_N4W3 = mean_param_extractor(single_incPzBMIDMOD,latency,win_3_N4,'N4|Pz|BMIDMOD|Win 3',multiple_waveforms=True,N400=True)\n",
    "raFzBMIDMOD_N4W1 = range_param_extractor(single_incFzBMIDMOD,latency,win_1_N4,multiple_waveforms=True,N400=True)\n",
    "raFzBMIDMOD_N4W2 = range_param_extractor(single_incFzBMIDMOD,latency,win_2_N4,multiple_waveforms=True,N400=True)\n",
    "raFzBMIDMOD_N4W3 = range_param_extractor(single_incFzBMIDMOD,latency,win_3_N4,multiple_waveforms=True,N400=True)    \n",
    "raCzBMIDMOD_N4W1 = range_param_extractor(single_incCzBMIDMOD,latency,win_1_N4,multiple_waveforms=True,N400=True)\n",
    "raCzBMIDMOD_N4W2 = range_param_extractor(single_incCzBMIDMOD,latency,win_2_N4,multiple_waveforms=True,N400=True)\n",
    "raCzBMIDMOD_N4W3 = range_param_extractor(single_incCzBMIDMOD,latency,win_3_N4,multiple_waveforms=True,N400=True)\n",
    "raPzBMIDMOD_N4W1 = range_param_extractor(single_incPzBMIDMOD,latency,win_1_N4,multiple_waveforms=True,N400=True)\n",
    "raPzBMIDMOD_N4W2 = range_param_extractor(single_incPzBMIDMOD,latency,win_2_N4,multiple_waveforms=True,N400=True)\n",
    "raPzBMIDMOD_N4W3 = range_param_extractor(single_incPzBMIDMOD,latency,win_3_N4,multiple_waveforms=True,N400=True)"
   ]
  },
  {
   "cell_type": "code",
   "execution_count": null,
   "metadata": {},
   "outputs": [],
   "source": [
    "maFzBSD_N1W1 = mean_param_extractor(single_devFzBSD,latency,win_1_N1,'N1|Fz|BSD|Win 1',multiple_waveforms=True,N100=True)\n",
    "maFzBSD_N1W2 = mean_param_extractor(single_devFzBSD,latency,win_2_N1,'N1|Fz|BSD|Win 2',multiple_waveforms=True,N100=True)\n",
    "maFzBSD_N1W3 = mean_param_extractor(single_devFzBSD,latency,win_3_N1,'N1|Fz|BSD|Win 3',multiple_waveforms=True,N100=True)\n",
    "maCzBSD_N1W1 = mean_param_extractor(single_devCzBSD,latency,win_1_N1,'N1|Cz|BSD|Win 1',multiple_waveforms=True,N100=True)\n",
    "maCzBSD_N1W2 = mean_param_extractor(single_devCzBSD,latency,win_2_N1,'N1|Cz|BSD|Win 2',multiple_waveforms=True,N100=True)\n",
    "maCzBSD_N1W3 = mean_param_extractor(single_devCzBSD,latency,win_3_N1,'N1|Cz|BSD|Win 3',multiple_waveforms=True,N100=True)\n",
    "maPzBSD_N1W1 = mean_param_extractor(single_devPzBSD,latency,win_1_N1,'N1|Pz|BSD|Win 1',multiple_waveforms=True,N100=True)\n",
    "maPzBSD_N1W2 = mean_param_extractor(single_devPzBSD,latency,win_2_N1,'N1|Pz|BSD|Win 2',multiple_waveforms=True,N100=True)\n",
    "maPzBSD_N1W3 = mean_param_extractor(single_devPzBSD,latency,win_3_N1,'N1|Pz|BSD|Win 3',multiple_waveforms=True,N100=True)\n",
    "raFzBSD_N1W1 = range_param_extractor(single_devFzBSD,latency,win_1_N1,multiple_waveforms=True,N100=True)\n",
    "raFzBSD_N1W2 = range_param_extractor(single_devFzBSD,latency,win_2_N1,multiple_waveforms=True,N100=True)\n",
    "raFzBSD_N1W3 = range_param_extractor(single_devFzBSD,latency,win_3_N1,multiple_waveforms=True,N100=True)\n",
    "raCzBSD_N1W1 = range_param_extractor(single_devCzBSD,latency,win_1_N1,multiple_waveforms=True,N100=True)\n",
    "raCzBSD_N1W2 = range_param_extractor(single_devCzBSD,latency,win_2_N1,multiple_waveforms=True,N100=True)\n",
    "raCzBSD_N1W3 = range_param_extractor(single_devCzBSD,latency,win_3_N1,multiple_waveforms=True,N100=True)\n",
    "raPzBSD_N1W1 = range_param_extractor(single_devPzBSD,latency,win_1_N1,multiple_waveforms=True,N100=True)\n",
    "raPzBSD_N1W2 = range_param_extractor(single_devPzBSD,latency,win_2_N1,multiple_waveforms=True,N100=True)\n",
    "raPzBSD_N1W3 = range_param_extractor(single_devPzBSD,latency,win_3_N1,multiple_waveforms=True,N100=True)"
   ]
  },
  {
   "cell_type": "code",
   "execution_count": null,
   "metadata": {},
   "outputs": [],
   "source": [
    "maFzBSD_P3W1 = mean_param_extractor(single_devFzBSD,latency,win_1_P3,'P3|Fz|BSD|Win 1',multiple_waveforms=True,P300=True)\n",
    "maFzBSD_P3W2 = mean_param_extractor(single_devFzBSD,latency,win_2_P3,'P3|Fz|BSD|Win 2',multiple_waveforms=True,P300=True)\n",
    "maFzBSD_P3W3 = mean_param_extractor(single_devFzBSD,latency,win_3_P3,'P3|Fz|BSD|Win 3',multiple_waveforms=True,P300=True)\n",
    "maCzBSD_P3W1 = mean_param_extractor(single_devCzBSD,latency,win_1_P3,'P3|Cz|BSD|Win 1',multiple_waveforms=True,P300=True)\n",
    "maCzBSD_P3W2 = mean_param_extractor(single_devCzBSD,latency,win_2_P3,'P3|Cz|BSD|Win 2',multiple_waveforms=True,P300=True)\n",
    "maCzBSD_P3W3 = mean_param_extractor(single_devCzBSD,latency,win_3_P3,'P3|Cz|BSD|Win 3',multiple_waveforms=True,P300=True)\n",
    "maPzBSD_P3W1 = mean_param_extractor(single_devPzBSD,latency,win_1_P3,'P3|Pz|BSD|Win 1',multiple_waveforms=True,P300=True)\n",
    "maPzBSD_P3W2 = mean_param_extractor(single_devPzBSD,latency,win_2_P3,'P3|Pz|BSD|Win 2',multiple_waveforms=True,P300=True)\n",
    "maPzBSD_P3W3 = mean_param_extractor(single_devPzBSD,latency,win_3_P3,'P3|Pz|BSD|Win 3',multiple_waveforms=True,P300=True)\n",
    "raFzBSD_P3W1 = range_param_extractor(single_devFzBSD,latency,win_1_P3,multiple_waveforms=True,P300=True)\n",
    "raFzBSD_P3W2 = range_param_extractor(single_devFzBSD,latency,win_2_P3,multiple_waveforms=True,P300=True)\n",
    "raFzBSD_P3W3 = range_param_extractor(single_devFzBSD,latency,win_3_P3,multiple_waveforms=True,P300=True)\n",
    "raCzBSD_P3W1 = range_param_extractor(single_devCzBSD,latency,win_1_P3,multiple_waveforms=True,P300=True)\n",
    "raCzBSD_P3W2 = range_param_extractor(single_devCzBSD,latency,win_2_P3,multiple_waveforms=True,P300=True)\n",
    "raCzBSD_P3W3 = range_param_extractor(single_devCzBSD,latency,win_3_P3,multiple_waveforms=True,P300=True)\n",
    "raPzBSD_P3W1 = range_param_extractor(single_devPzBSD,latency,win_1_P3,multiple_waveforms=True,P300=True)\n",
    "raPzBSD_P3W2 = range_param_extractor(single_devPzBSD,latency,win_2_P3,multiple_waveforms=True,P300=True)\n",
    "raPzBSD_P3W3 = range_param_extractor(single_devPzBSD,latency,win_3_P3,multiple_waveforms=True,P300=True)"
   ]
  },
  {
   "cell_type": "code",
   "execution_count": null,
   "metadata": {},
   "outputs": [],
   "source": [
    "maFzBSD_N4W1 = mean_param_extractor(single_incFzBSD,latency,win_1_N4,'N4|Fz|BSD|Win 1',multiple_waveforms=True,N400=True)\n",
    "maFzBSD_N4W2 = mean_param_extractor(single_incFzBSD,latency,win_2_N4,'N4|Fz|BSD|Win 2',multiple_waveforms=True,N400=True)\n",
    "maFzBSD_N4W3 = mean_param_extractor(single_incFzBSD,latency,win_3_N4,'N4|Fz|BSD|Win 3',multiple_waveforms=True,N400=True)\n",
    "maCzBSD_N4W1 = mean_param_extractor(single_incCzBSD,latency,win_1_N4,'N4|Cz|BSD|Win 1',multiple_waveforms=True,N400=True)\n",
    "maCzBSD_N4W2 = mean_param_extractor(single_incCzBSD,latency,win_2_N4,'N4|Cz|BSD|Win 2',multiple_waveforms=True,N400=True)\n",
    "maCzBSD_N4W3 = mean_param_extractor(single_incCzBSD,latency,win_3_N4,'N4|Cz|BSD|Win 3',multiple_waveforms=True,N400=True)\n",
    "maPzBSD_N4W1 = mean_param_extractor(single_incPzBSD,latency,win_1_N4,'N4|Pz|BSD|Win 1',multiple_waveforms=True,N400=True)\n",
    "maPzBSD_N4W2 = mean_param_extractor(single_incPzBSD,latency,win_2_N4,'N4|Pz|BSD|Win 2',multiple_waveforms=True,N400=True)\n",
    "maPzBSD_N4W3 = mean_param_extractor(single_incPzBSD,latency,win_3_N4,'N4|Pz|BSD|Win 3',multiple_waveforms=True,N400=True)\n",
    "raFzBSD_N4W1 = range_param_extractor(single_incFzBSD,latency,win_1_N4,multiple_waveforms=True,N400=True)\n",
    "raFzBSD_N4W2 = range_param_extractor(single_incFzBSD,latency,win_2_N4,multiple_waveforms=True,N400=True)\n",
    "raFzBSD_N4W3 = range_param_extractor(single_incFzBSD,latency,win_3_N4,multiple_waveforms=True,N400=True)\n",
    "raCzBSD_N4W1 = range_param_extractor(single_incCzBSD,latency,win_1_N4,multiple_waveforms=True,N400=True)\n",
    "raCzBSD_N4W2 = range_param_extractor(single_incCzBSD,latency,win_2_N4,multiple_waveforms=True,N400=True)\n",
    "raCzBSD_N4W3 = range_param_extractor(single_incCzBSD,latency,win_3_N4,multiple_waveforms=True,N400=True)\n",
    "raPzBSD_N4W1 = range_param_extractor(single_incPzBSD,latency,win_1_N4,multiple_waveforms=True,N400=True)\n",
    "raPzBSD_N4W2 = range_param_extractor(single_incPzBSD,latency,win_2_N4,multiple_waveforms=True,N400=True)\n",
    "raPzBSD_N4W3 = range_param_extractor(single_incPzBSD,latency,win_3_N4,multiple_waveforms=True,N400=True)"
   ]
  },
  {
   "attachments": {},
   "cell_type": "markdown",
   "metadata": {},
   "source": [
    "## Behavior PLSC Analysis\n",
    "\n",
    "<b> NB: Provided the result used in manuscript"
   ]
  },
  {
   "cell_type": "code",
   "execution_count": null,
   "metadata": {},
   "outputs": [],
   "source": [
    "win_1_fz_N1, win_2_fz_N1, win_3_fz_N1 = np.concatenate((raFzBMIDMOD_N1W1,raFzBSD_N1W1,raFzBND_N1W1),axis=0), np.concatenate((raFzBMIDMOD_N1W2,raFzBSD_N1W2,raFzBND_N1W2),axis=0), np.concatenate((raFzBMIDMOD_N1W3,raFzBSD_N1W3,raFzBND_N1W3),axis=0)\n",
    "win_1_cz_N1, win_2_cz_N1, win_3_cz_N1 = np.concatenate((raCzBMIDMOD_N1W1,raCzBSD_N1W1,raCzBND_N1W1),axis=0), np.concatenate((raCzBMIDMOD_N1W2,raCzBSD_N1W2,raCzBND_N1W2),axis=0), np.concatenate((raCzBMIDMOD_N1W3,raCzBSD_N1W3,raCzBND_N1W3),axis=0)\n",
    "win_1_pz_N1, win_2_pz_N1, win_3_pz_N1 = np.concatenate((raPzBMIDMOD_N1W1,raPzBSD_N1W1,raPzBND_N1W1),axis=0), np.concatenate((raPzBMIDMOD_N1W2,raPzBSD_N1W2,raPzBND_N1W2),axis=0), np.concatenate((raPzBMIDMOD_N1W3,raPzBSD_N1W3,raPzBND_N1W3),axis=0)\n",
    "win_1_fz_P3, win_2_fz_P3, win_3_fz_P3 = np.concatenate((raFzBMIDMOD_P3W1,raFzBSD_P3W1,raFzBND_P3W1),axis=0), np.concatenate((raFzBMIDMOD_P3W2,raFzBSD_P3W2,raFzBND_P3W2),axis=0), np.concatenate((raFzBMIDMOD_P3W3,raFzBSD_P3W3,raFzBND_P3W3),axis=0)\n",
    "win_1_cz_P3, win_2_cz_P3, win_3_cz_P3 = np.concatenate((raCzBMIDMOD_P3W1,raCzBSD_P3W1,raCzBND_P3W1),axis=0), np.concatenate((raCzBMIDMOD_P3W2,raCzBSD_P3W2,raCzBND_P3W2),axis=0), np.concatenate((raCzBMIDMOD_P3W3,raCzBSD_P3W3,raCzBND_P3W3),axis=0)\n",
    "win_1_pz_P3, win_2_pz_P3, win_3_pz_P3 = np.concatenate((raPzBMIDMOD_P3W1,raPzBSD_P3W1,raPzBND_P3W1),axis=0), np.concatenate((raPzBMIDMOD_P3W2,raPzBSD_P3W2,raPzBND_P3W2),axis=0), np.concatenate((raPzBMIDMOD_P3W3,raPzBSD_P3W3,raPzBND_P3W3),axis=0)\n",
    "win_1_fz_N4, win_2_fz_N4, win_3_fz_N4 = np.concatenate((raFzBMIDMOD_N4W1,raFzBSD_N4W1,raFzBND_N4W1),axis=0), np.concatenate((raFzBMIDMOD_N4W2,raFzBSD_N4W2,raFzBND_N4W2),axis=0), np.concatenate((raFzBMIDMOD_N4W3,raFzBSD_N4W3,raFzBND_N4W3),axis=0)\n",
    "win_1_cz_N4, win_2_cz_N4, win_3_cz_N4 = np.concatenate((raCzBMIDMOD_N4W1,raCzBSD_N4W1,raCzBND_N4W1),axis=0), np.concatenate((raCzBMIDMOD_N4W2,raCzBSD_N4W2,raCzBND_N4W2),axis=0), np.concatenate((raCzBMIDMOD_N4W3,raCzBSD_N4W3,raCzBND_N4W3),axis=0)\n",
    "win_1_pz_N4, win_2_pz_N4, win_3_pz_N4 = np.concatenate((raPzBMIDMOD_N4W1,raPzBSD_N4W1,raPzBND_N4W1),axis=0), np.concatenate((raPzBMIDMOD_N4W2,raPzBSD_N4W2,raPzBND_N4W2),axis=0), np.concatenate((raPzBMIDMOD_N4W3,raPzBSD_N4W3,raPzBND_N4W3),axis=0)\n"
   ]
  },
  {
   "cell_type": "code",
   "execution_count": null,
   "metadata": {},
   "outputs": [],
   "source": [
    "num_groups  = [len(qBMIDMOD), len(qBSD),len(qBND)]\n",
    "group_conditions = np.hstack((np.repeat('BMIDMOD',num_groups[1]),np.repeat('BSD',num_groups[2]),np.repeat('BND',num_groups[0])))"
   ]
  },
  {
   "cell_type": "code",
   "execution_count": null,
   "metadata": {},
   "outputs": [],
   "source": [
    "mmsedata = pd.read_excel(dataPath + clinic_data)\n",
    "mmsedata = mmsedata[['ID','MMSE']]\n",
    "qBND,qBMIDMOD,qBSD = [x[:4] for x in qBND],[x[:4] for x in qBMIDMOD],[x[:4] for x in qBSD]\n",
    "qBND,qBMIDMOD,qBSD = [int(x) for x in qBND],[int(x) for x in qBMIDMOD],[int(x) for x in qBSD]\n",
    "mmseBND,mmseBMIDMOD,mmseBSD = mmsedata[mmsedata['ID'].isin(qBND)]['MMSE'],mmsedata[mmsedata['ID'].isin(qBMIDMOD)]['MMSE'],mmsedata[mmsedata['ID'].isin(qBSD)]['MMSE']\n",
    "mmseBaseline = np.concatenate((mmseBMIDMOD,mmseBSD,mmseBND),axis=0)\n",
    "mmseBaseline = mmseBaseline.reshape(-1,1)\n",
    "print('mean +- std of MMSE Baseline: ',np.mean(mmseBaseline),'+-',np.std(mmseBaseline))\n",
    "print('mean +- std of MMSE Baseline BND: ',np.mean(mmseBND),'+-',np.std(mmseBND))\n",
    "print('mean +- std of MMSE Baseline BMIDMOD: ',np.mean(mmseBMIDMOD),'+-',np.std(mmseBMIDMOD))\n",
    "print('mean +- std of MMSE Baseline BSD: ',np.mean(mmseBSD),'+-',np.std(mmseBSD))"
   ]
  },
  {
   "cell_type": "code",
   "execution_count": null,
   "metadata": {},
   "outputs": [],
   "source": [
    "age_data = pd.read_excel(dataPath + clinic_data)\n",
    "age_data = age_data[['ID','Age']]\n",
    "ageBND,ageBMIDMOD,ageBSD = age_data[age_data['ID'].isin(qBND)]['Age'],age_data[age_data['ID'].isin(qBMIDMOD)]['Age'],age_data[age_data['ID'].isin(qBSD)]['Age']\n",
    "ageBaseline = np.concatenate((ageBMIDMOD,ageBSD,ageBND),axis=0)\n",
    "ageBaseline = ageBaseline.reshape(-1,1)\n",
    "# find age range in baseline data\n",
    "print('age range overall: ',np.min(ageBaseline),'-',np.max(ageBaseline))\n",
    "print('mean +- std of Age Baseline: ',round(np.mean(ageBaseline),1),'+-',round(np.std(ageBaseline),1))\n",
    "print('mean +- std of Age Baseline BND: ',round(np.mean(ageBND),1),'+-',round(np.std(ageBND),1), '','age range BND: ',np.min(ageBND),'-',np.max(ageBND))\n",
    "print('mean +- std of Age Baseline BMIDMOD: ',round(np.mean(ageBMIDMOD),1),'+-',round(np.std(ageBMIDMOD),1), '','age range BMIDMOD: ',np.min(ageBMIDMOD),'-',np.max(ageBMIDMOD))\n",
    "print('mean +- std of Age Baseline BSD: ',round(np.mean(ageBSD),1),'+-',round(np.std(ageBSD),1), '','age range BSD: ',np.min(ageBSD),'-',np.max(ageBSD))"
   ]
  },
  {
   "cell_type": "code",
   "execution_count": null,
   "metadata": {},
   "outputs": [],
   "source": [
    "# extract age for comparison data\n",
    "comp_name = \"refData2_BVS_Elite_Ice_Hockey.xlsx\"\n",
    "comparison_data = pd.read_excel(ref_path + comp_name)\n",
    "comparison_data = comparison_data[comparison_data[\"Age\"] >= 59]\n",
    "ageCOMP = comparison_data[\"Age\"]\n"
   ]
  },
  {
   "cell_type": "code",
   "execution_count": null,
   "metadata": {},
   "outputs": [],
   "source": [
    "gender_data = pd.read_excel(dataPath + clinic_data)\n",
    "gender_data = gender_data[['ID','Gender']]\n",
    "genderBND,genderBMID,genderBSD = gender_data[gender_data['ID'].isin(qBND)]['Gender'],gender_data[gender_data['ID'].isin(qBMIDMOD)]['Gender'],gender_data[gender_data['ID'].isin(qBSD)]['Gender']\n",
    "genderBaseline = np.concatenate((genderBMID,genderBSD,genderBND),axis=0)\n",
    "genderBaseline = genderBaseline.reshape(-1,1)\n",
    "print('male/female numbers of Baseline: ',np.sum(genderBaseline=='M'),'/',np.sum(genderBaseline=='F'))\n",
    "print('male/female numbers of BND: ',np.sum(genderBND=='M'),'/',np.sum(genderBND=='F'))\n",
    "print('male/female numbers of BMID: ',np.sum(genderBMID=='M'),'/',np.sum(genderBMID=='F'))\n",
    "print('male/female numbers of BSD: ',np.sum(genderBSD=='M'),'/',np.sum(genderBSD=='F'))"
   ]
  },
  {
   "cell_type": "code",
   "execution_count": null,
   "metadata": {},
   "outputs": [],
   "source": [
    "ct_win1FzN1 = behavior(win_1_fz_N1, mmseBaseline, num_groups)\n",
    "ct_win2FzN1 = behavior(win_2_fz_N1, mmseBaseline, num_groups)\n",
    "ct_win3FzN1 = behavior(win_3_fz_N1, mmseBaseline, num_groups)"
   ]
  },
  {
   "cell_type": "code",
   "execution_count": null,
   "metadata": {},
   "outputs": [],
   "source": [
    "ct_win1CzN1 = behavior(win_1_cz_N1, mmseBaseline, num_groups)\n",
    "ct_win2CzN1 = behavior(win_2_cz_N1, mmseBaseline, num_groups)\n",
    "ct_win3CzN1 = behavior(win_3_cz_N1, mmseBaseline, num_groups)\n"
   ]
  },
  {
   "cell_type": "code",
   "execution_count": null,
   "metadata": {},
   "outputs": [],
   "source": [
    "\n",
    "ct_win1PzN1 = behavior(win_1_pz_N1, mmseBaseline, num_groups)\n",
    "ct_win2PzN1 = behavior(win_2_pz_N1, mmseBaseline, num_groups)\n",
    "ct_win3PzN1 = behavior(win_3_pz_N1, mmseBaseline, num_groups)"
   ]
  },
  {
   "cell_type": "code",
   "execution_count": null,
   "metadata": {},
   "outputs": [],
   "source": [
    "ct_win1FzP3 = behavior(win_1_fz_P3, mmseBaseline, num_groups)\n",
    "ct_win2FzP3 = behavior(win_2_fz_P3, mmseBaseline, num_groups)\n",
    "ct_win3FzP3 = behavior(win_3_fz_P3, mmseBaseline, num_groups)"
   ]
  },
  {
   "cell_type": "code",
   "execution_count": null,
   "metadata": {},
   "outputs": [],
   "source": [
    "ct_win1CzP3 = behavior(win_1_cz_P3, mmseBaseline, num_groups)\n",
    "ct_win2CzP3 = behavior(win_2_cz_P3, mmseBaseline, num_groups)\n",
    "ct_win3CzP3 = behavior(win_3_cz_P3, mmseBaseline, num_groups)"
   ]
  },
  {
   "cell_type": "code",
   "execution_count": null,
   "metadata": {},
   "outputs": [],
   "source": [
    "ct_win1PzP3 = behavior(win_1_pz_P3, mmseBaseline, num_groups)\n",
    "ct_win2PzP3 = behavior(win_2_pz_P3, mmseBaseline, num_groups)\n",
    "ct_win3PzP3 = behavior(win_3_pz_P3, mmseBaseline, num_groups)"
   ]
  },
  {
   "cell_type": "code",
   "execution_count": null,
   "metadata": {},
   "outputs": [],
   "source": [
    "ct_win1FzN4 = behavior(win_1_fz_N4, mmseBaseline, num_groups)\n",
    "ct_win2FzN4 = behavior(win_2_fz_N4, mmseBaseline, num_groups)\n",
    "ct_win3FzN4 = behavior(win_3_fz_N4, mmseBaseline, num_groups)"
   ]
  },
  {
   "cell_type": "code",
   "execution_count": null,
   "metadata": {},
   "outputs": [],
   "source": [
    "ct_win1CzN4 = behavior(win_1_cz_N4, mmseBaseline, num_groups)\n",
    "ct_win2CzN4 = behavior(win_2_cz_N4, mmseBaseline, num_groups)\n",
    "ct_win3CzN4 = behavior(win_3_cz_N4, mmseBaseline, num_groups)"
   ]
  },
  {
   "cell_type": "code",
   "execution_count": null,
   "metadata": {},
   "outputs": [],
   "source": [
    "ct_win1PzN4 = behavior(win_1_pz_N4, mmseBaseline, num_groups)\n",
    "ct_win2PzN4 = behavior(win_2_pz_N4, mmseBaseline, num_groups)\n",
    "ct_win3PzN4 = behavior(win_3_pz_N4, mmseBaseline, num_groups)"
   ]
  },
  {
   "cell_type": "markdown",
   "metadata": {},
   "source": [
    "## Test for multiple comparisons (False Discovery Rate) | MMSE Results"
   ]
  },
  {
   "cell_type": "code",
   "execution_count": null,
   "metadata": {},
   "outputs": [],
   "source": [
    "# Pz N4\n",
    "fdr(pvals=[0.5402,0.9903,0.0186],alpha=0.05,print_results=True)\n"
   ]
  },
  {
   "attachments": {},
   "cell_type": "markdown",
   "metadata": {},
   "source": [
    "<b>Behaviour PLSC Analysis (Age-Related)<b>\n"
   ]
  },
  {
   "cell_type": "code",
   "execution_count": null,
   "metadata": {},
   "outputs": [],
   "source": [
    "def fzN1():\n",
    "    print('FzN1')\n",
    "    ct_win1FzN1 = behavior(win_1_fz_N1, ageBaseline, num_groups)\n",
    "    ct_win2FzN1 = behavior(win_2_fz_N1, ageBaseline, num_groups)\n",
    "    ct_win3FzN1 = behavior(win_3_fz_N1, ageBaseline, num_groups)\n",
    "\n",
    "fzN1()"
   ]
  },
  {
   "cell_type": "code",
   "execution_count": null,
   "metadata": {},
   "outputs": [],
   "source": [
    "def czN1():\n",
    "    print('CzN1')\n",
    "    ct_win1CzN1 = behavior(win_1_cz_N1, ageBaseline, num_groups)\n",
    "    ct_win2CzN1 = behavior(win_2_cz_N1, ageBaseline, num_groups)\n",
    "    ct_win3CzN1 = behavior(win_3_cz_N1, ageBaseline, num_groups)\n",
    "\n",
    "czN1()"
   ]
  },
  {
   "cell_type": "code",
   "execution_count": null,
   "metadata": {},
   "outputs": [],
   "source": [
    "def pzN1():\n",
    "    print('PzN1')\n",
    "    ct_win1PzN1 = behavior(win_1_pz_N1, ageBaseline, num_groups)\n",
    "    ct_win2PzN1 = behavior(win_2_pz_N1, ageBaseline, num_groups)\n",
    "    ct_win3PzN1 = behavior(win_3_pz_N1, ageBaseline, num_groups)\n",
    "\n",
    "pzN1()"
   ]
  },
  {
   "cell_type": "code",
   "execution_count": null,
   "metadata": {},
   "outputs": [],
   "source": [
    "def fzP3():\n",
    "    print('FzP3')\n",
    "    ct_win1FzP3 = behavior(win_1_fz_P3, ageBaseline, num_groups)\n",
    "    ct_win2FzP3 = behavior(win_2_fz_P3, ageBaseline, num_groups)\n",
    "    ct_win3FzP3 = behavior(win_3_fz_P3, ageBaseline, num_groups)\n",
    "\n",
    "fzP3()"
   ]
  },
  {
   "cell_type": "code",
   "execution_count": null,
   "metadata": {},
   "outputs": [],
   "source": [
    "def czP3():\n",
    "    print('CzP3')\n",
    "    ct_win1CzP3 = behavior(win_1_cz_P3, ageBaseline, num_groups)\n",
    "    ct_win2CzP3 = behavior(win_2_cz_P3, ageBaseline, num_groups)\n",
    "    ct_win3CzP3 = behavior(win_3_cz_P3, ageBaseline, num_groups)\n",
    "\n",
    "czP3()"
   ]
  },
  {
   "cell_type": "code",
   "execution_count": null,
   "metadata": {},
   "outputs": [],
   "source": [
    "def pzP3():\n",
    "    print('PzP3')\n",
    "    ct_win1PzP3 = behavior(win_1_pz_P3, ageBaseline, num_groups)\n",
    "    ct_win2PzP3 = behavior(win_2_pz_P3, ageBaseline, num_groups)\n",
    "    ct_win3PzP3 = behavior(win_3_pz_P3, ageBaseline, num_groups)\n",
    "\n",
    "pzP3()"
   ]
  },
  {
   "cell_type": "code",
   "execution_count": null,
   "metadata": {},
   "outputs": [],
   "source": [
    "def fzN4():\n",
    "    print('FzN4')\n",
    "    ct_win1FzN4 = behavior(win_1_fz_N4, ageBaseline, num_groups)\n",
    "    ct_win2FzN4 = behavior(win_2_fz_N4, ageBaseline, num_groups)\n",
    "    ct_win3FzN4 = behavior(win_3_fz_N4, ageBaseline, num_groups)\n",
    "\n",
    "fzN4()"
   ]
  },
  {
   "cell_type": "code",
   "execution_count": null,
   "metadata": {},
   "outputs": [],
   "source": [
    "def czN4():\n",
    "    print('CzN4')\n",
    "    ct_win1CzN4 = behavior(win_1_cz_N4, ageBaseline, num_groups)\n",
    "    ct_win2CzN4 = behavior(win_2_cz_N4, ageBaseline, num_groups)\n",
    "    ct_win3CzN4 = behavior(win_3_cz_N4, ageBaseline, num_groups)\n",
    "\n",
    "czN4()"
   ]
  },
  {
   "cell_type": "code",
   "execution_count": null,
   "metadata": {},
   "outputs": [],
   "source": [
    "def pzN4():\n",
    "    print('PzN4')\n",
    "    ct_win1PzN4 = behavior(win_1_pz_N4, ageBaseline, num_groups)\n",
    "    ct_win2PzN4 = behavior(win_2_pz_N4, ageBaseline, num_groups)\n",
    "    ct_win3PzN4 = behavior(win_3_pz_N4, ageBaseline, num_groups)\n",
    "\n",
    "pzN4()"
   ]
  },
  {
   "cell_type": "markdown",
   "metadata": {},
   "source": [
    "## Test for multiple comparisons (False Discovery Rate) | Age Results"
   ]
  },
  {
   "cell_type": "code",
   "execution_count": null,
   "metadata": {},
   "outputs": [],
   "source": [
    "# Fz N4\n",
    "fdr(pvals=[0.8319,0.0268,0.3289],alpha=0.05,print_results=True)"
   ]
  },
  {
   "cell_type": "code",
   "execution_count": null,
   "metadata": {},
   "outputs": [],
   "source": [
    "# Pz N4\n",
    "fdr(pvals=[0.5177,0.851,0.0356],alpha=0.05,print_results=True)"
   ]
  },
  {
   "cell_type": "code",
   "execution_count": null,
   "metadata": {},
   "outputs": [],
   "source": [
    "f_statistic, p_value = stats.f_oneway(ageBSD, ageBMIDMOD, ageBND, ageCOMP)\n",
    "\n",
    "print(f'F Statistic: {f_statistic}, P-Value: {p_value}')\n",
    "\n",
    "alpha = 0.05\n",
    "if p_value < alpha:\n",
    "    print('There is a significant difference in age across the three MMSE groups.')\n",
    "else:\n",
    "    print('There is no significant difference in age across the three MMSE groups.')\n",
    "\n",
    "print(f'Mean age for group BSD: {np.mean(ageBSD)}')\n",
    "print(f'Mean age for group BMIDMOD: {np.mean(ageBMIDMOD)}')\n",
    "print(f'Mean age for group BND: {np.mean(ageBND)}')\n",
    "print(f'Mean age for group COMP: {np.mean(ageCOMP)}')\n"
   ]
  },
  {
   "cell_type": "code",
   "execution_count": null,
   "metadata": {},
   "outputs": [],
   "source": [
    "# combine qBND and mmseBND side by side\n",
    "idMMSE_BND = np.vstack((qBND, mmseBND)).T\n",
    "idMMSE_BMIDMOD = np.vstack((qBMIDMOD, mmseBMIDMOD)).T\n",
    "idMMSE_BSD = np.vstack((qBSD, mmseBSD)).T\n",
    "\n",
    "# Combine the ID-MMSE and the ERP data\n",
    "idMMSE_BND_DEV_FZ = np.hstack((idMMSE_BND,single_devFzBND))\n",
    "idMMSE_BND_DEV_CZ = np.hstack((idMMSE_BND,single_devCzBND))\n",
    "idMMSE_BND_DEV_PZ = np.hstack((idMMSE_BND,single_devPzBND))\n",
    "idMMSE_BND_INC_FZ = np.hstack((idMMSE_BND,single_incFzBND))\n",
    "idMMSE_BND_INC_CZ = np.hstack((idMMSE_BND,single_incCzBND))\n",
    "idMMSE_BND_INC_PZ = np.hstack((idMMSE_BND,single_incPzBND)) \n",
    "\n",
    "idMMSE_BMIDMOD_DEV_FZ = np.hstack((idMMSE_BMIDMOD,single_devFzBMIDMOD))\n",
    "idMMSE_BMIDMOD_DEV_CZ = np.hstack((idMMSE_BMIDMOD,single_devCzBMIDMOD))\n",
    "idMMSE_BMIDMOD_DEV_PZ = np.hstack((idMMSE_BMIDMOD,single_devPzBMIDMOD))\n",
    "idMMSE_BMIDMOD_INC_FZ = np.hstack((idMMSE_BMIDMOD,single_incFzBMIDMOD))\n",
    "idMMSE_BMIDMOD_INC_CZ = np.hstack((idMMSE_BMIDMOD,single_incCzBMIDMOD))\n",
    "idMMSE_BMIDMOD_INC_PZ = np.hstack((idMMSE_BMIDMOD,single_incPzBMIDMOD))\n",
    "\n",
    "idMMSE_BSD_DEV_FZ = np.hstack((idMMSE_BSD,single_devFzBSD))\n",
    "idMMSE_BSD_DEV_CZ = np.hstack((idMMSE_BSD,single_devCzBSD))\n",
    "idMMSE_BSD_DEV_PZ = np.hstack((idMMSE_BSD,single_devPzBSD))\n",
    "idMMSE_BSD_INC_FZ = np.hstack((idMMSE_BSD,single_incFzBSD))\n",
    "idMMSE_BSD_INC_CZ = np.hstack((idMMSE_BSD,single_incCzBSD))\n",
    "idMMSE_BSD_INC_PZ = np.hstack((idMMSE_BSD,single_incPzBSD))\n",
    "\n",
    "# Combine data by group in 3D array\n",
    "idMMSE_BND_STIM = np.stack((idMMSE_BND_DEV_FZ,idMMSE_BND_DEV_CZ,idMMSE_BND_DEV_PZ,\n",
    "                             idMMSE_BND_INC_FZ,idMMSE_BND_INC_CZ,idMMSE_BND_INC_PZ))\n",
    "idMMSE_BMIDMOD_STIM = np.stack((idMMSE_BMIDMOD_DEV_FZ,idMMSE_BMIDMOD_DEV_CZ,idMMSE_BMIDMOD_DEV_PZ,\n",
    "                                    idMMSE_BMIDMOD_INC_FZ,idMMSE_BMIDMOD_INC_CZ,idMMSE_BMIDMOD_INC_PZ))\n",
    "idMMSE_BSD_STIM = np.stack((idMMSE_BSD_DEV_FZ,idMMSE_BSD_DEV_CZ,idMMSE_BSD_DEV_PZ,\n",
    "                                    idMMSE_BSD_INC_FZ,idMMSE_BSD_INC_CZ,idMMSE_BSD_INC_PZ))\n",
    "\n",
    "# Save numpy array\n",
    "np.save(\"/Users/joshuaighalo/Library/CloudStorage/OneDrive-SimonFraserUniversity(1sfu)/workspace/datasets/post-process/laurel-place/id_mmse_erp/mmse_erp_nd.npy\",idMMSE_BND_STIM)\n",
    "np.save(\"/Users/joshuaighalo/Library/CloudStorage/OneDrive-SimonFraserUniversity(1sfu)/workspace/datasets/post-process/laurel-place/id_mmse_erp/mmse_erp_midmod.npy\",idMMSE_BMIDMOD_STIM)\n",
    "np.save(\"/Users/joshuaighalo/Library/CloudStorage/OneDrive-SimonFraserUniversity(1sfu)/workspace/datasets/post-process/laurel-place/id_mmse_erp/mmse_erp_sd.npy\",idMMSE_BSD_STIM)\n"
   ]
  }
 ],
 "metadata": {
  "kernelspec": {
   "display_name": "Python 3.9.13 ('base')",
   "language": "python",
   "name": "python3"
  },
  "language_info": {
   "codemirror_mode": {
    "name": "ipython",
    "version": 3
   },
   "file_extension": ".py",
   "mimetype": "text/x-python",
   "name": "python",
   "nbconvert_exporter": "python",
   "pygments_lexer": "ipython3",
   "version": "3.9.13"
  },
  "orig_nbformat": 4,
  "vscode": {
   "interpreter": {
    "hash": "461d6223513f220819ca2144295df8dc3eb24dcc5b290dbd05290088ac0e1b1f"
   }
  }
 },
 "nbformat": 4,
 "nbformat_minor": 2
}
